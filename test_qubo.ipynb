{
 "metadata": {
  "language_info": {
   "codemirror_mode": {
    "name": "ipython",
    "version": 3
   },
   "file_extension": ".py",
   "mimetype": "text/x-python",
   "name": "python",
   "nbconvert_exporter": "python",
   "pygments_lexer": "ipython3",
   "version": "3.8.5-final"
  },
  "orig_nbformat": 2,
  "kernelspec": {
   "name": "python38264bite8c1c5bb18bd4e8697bc11d0205dd314",
   "display_name": "Python 3.8.2 64-bit"
  }
 },
 "nbformat": 4,
 "nbformat_minor": 2,
 "cells": [
  {
   "cell_type": "code",
   "execution_count": 1,
   "metadata": {},
   "outputs": [],
   "source": [
    "# Testing solutions to qubo formulation via brute force"
   ]
  },
  {
   "cell_type": "code",
   "execution_count": 92,
   "metadata": {
    "tags": []
   },
   "outputs": [],
   "source": [
    "par0 = [3.270025506417054, -5.5705550534919634, -22.99596324616617, 23.885947250122367]\n",
    "par1 = [2.0148299513082093, -2.3077541638054964, -4.495635233120011, 5.442011112394044]\n",
    "par2 = [-3.051009911492878, 2.5351114424588452, 10.074608214017912, 10.828326830889933]\n",
    "par3 = [-1.9381871116602056, 1.9559977818083947, 7.0134192064111165, 7.534623120442153]\n",
    "par4 = [-1.354217165309745, 1.2718510908588683, 4.767429906759727, 5.1166294808208965]\n",
    "par5 = [1.9064380989582357, -0.2888376674422131, -4.095520205065915, 4.528873917244341]"
   ]
  },
  {
   "cell_type": "code",
   "execution_count": 93,
   "metadata": {},
   "outputs": [],
   "source": [
    "from pyqubo import Spin, Array\n",
    "import numpy as np\n",
    "\n",
    "# Create an array of 6  spin variables\n",
    "n_part = 6 \n",
    "s = Array.create('s', shape=n_part, vartype='BINARY')\n",
    "\n",
    "# Create an array of zeroes for qubo matrix coefficients\n",
    "coeff = [[0] * n_part for _ in range(n_part)] \n",
    "\n",
    "theta = np.pi/4.\n",
    "\n",
    "coeff[0][0] =  (par0[0]*par0[0] + par0[1]*par0[1] + par0[2]*par0[2] + -1.0*par0[3]*par0[3]*np.cos(theta))/(1-np.cos(theta))\n",
    "\n",
    "coeff[0][1] = (par0[0]*par1[0] + par0[1]*par1[1] + par0[2]*par1[2] - par0[3]*par1[3]*np.cos(theta))/(1-np.cos(theta))\n",
    "\n",
    "coeff[1][0] = (par0[0]*par1[0] + par0[1]*par1[1] + par0[2]*par1[2] - par0[3]*par1[3]*np.cos(theta))/(1-np.cos(theta))\n",
    "\n",
    "coeff[1][1] = (par1[0]*par1[0] + par1[1]*par1[1] + par1[2]*par1[2] - par1[3]*par1[3]*np.cos(theta))/(1-np.cos(theta))\n",
    "\n",
    "coeff[0][2] = (par0[0]*par2[0] + par0[1]*par2[1] + par0[2]*par2[2] - par0[3]*par2[3]*np.cos(theta))/(1-np.cos(theta))\n",
    "\n",
    "coeff[2][0] = (par0[0]*par2[0] + par0[1]*par2[1] + par0[2]*par2[2] - par0[3]*par2[3]*np.cos(theta))/(1-np.cos(theta))\n",
    "\n",
    "coeff[0][3] = (par0[0]*par3[0] + par0[1]*par3[1] + par0[2]*par3[2] - par0[3]*par3[3]*np.cos(theta))/(1-np.cos(theta))\n",
    "\n",
    "coeff[3][0] = (par0[0]*par3[0] + par0[1]*par3[1] + par0[2]*par3[2] - par0[3]*par3[3]*np.cos(theta))/(1-np.cos(theta))\n",
    "\n",
    "coeff[1][2] = (par1[0]*par2[0] + par1[1]*par2[1] + par1[2]*par2[2] - par1[3]*par2[3]*np.cos(theta))/(1-np.cos(theta))\n",
    "\n",
    "coeff[2][1] = (par1[0]*par2[0] + par1[1]*par2[1] + par1[2]*par2[2] - par1[3]*par2[3]*np.cos(theta))/(1-np.cos(theta))\n",
    "\n",
    "coeff[1][3] = (par1[0]*par3[0] + par1[1]*par3[1] + par1[2]*par3[2] - par1[3]*par3[3]*np.cos(theta))/(1-np.cos(theta))\n",
    "\n",
    "coeff[3][1] = (par1[0]*par3[0] + par1[1]*par3[1] + par1[2]*par3[2] - par1[3]*par3[3]*np.cos(theta))/(1-np.cos(theta))\n",
    "\n",
    "coeff[2][2] = (par2[0]*par2[0] + par2[1]*par2[1] + par2[2]*par2[2] - par2[3]*par2[3]*np.cos(theta))/(1-np.cos(theta))\n",
    "\n",
    "coeff[2][3] = (par2[0]*par3[0] + par2[1]*par3[1] + par2[2]*par3[2] - par2[3]*par3[3]*np.cos(theta))/(1-np.cos(theta))\n",
    "\n",
    "coeff[3][2] = (par2[0]*par3[0] + par2[1]*par3[1] + par2[2]*par3[2] - par2[3]*par3[3]*np.cos(theta))/(1-np.cos(theta))\n",
    "\n",
    "coeff[3][3] = (par3[0]*par3[0] + par3[1]*par3[1] + par3[2]*par3[2] - par3[3]*par3[3]*np.cos(theta))/(1-np.cos(theta))\n",
    "\n",
    "coeff[0][4] = (par0[0]*par4[0] + par0[1]*par4[1] + par0[2]*par4[2] - par0[3]*par4[3]*np.cos(theta))/(1-np.cos(theta))\n",
    "\n",
    "coeff[4][0] = (par0[0]*par4[0] + par0[1]*par4[1] + par0[2]*par4[2] - par0[3]*par4[3]*np.cos(theta))/(1-np.cos(theta))\n",
    "\n",
    "coeff[1][4] = (par1[0]*par4[0] + par1[1]*par4[1] + par1[2]*par4[2] - par1[3]*par4[3]*np.cos(theta))/(1-np.cos(theta))\n",
    "\n",
    "coeff[4][1] = (par1[0]*par4[0] + par1[1]*par4[1] + par1[2]*par4[2] - par1[3]*par4[3]*np.cos(theta))/(1-np.cos(theta))\n",
    "\n",
    "coeff[2][4] = (par2[0]*par4[0] + par2[1]*par4[1] + par2[2]*par4[2] - par2[3]*par4[3]*np.cos(theta))/(1-np.cos(theta))\n",
    "\n",
    "coeff[4][2] = (par2[0]*par4[0] + par2[1]*par4[1] + par2[2]*par4[2] - par2[3]*par4[3]*np.cos(theta))/(1-np.cos(theta))\n",
    "\n",
    "coeff[3][4] = (par3[0]*par4[0] + par3[1]*par4[1] + par3[2]*par4[2] - par3[3]*par4[3]*np.cos(theta))/(1-np.cos(theta))\n",
    "\n",
    "coeff[4][3] = (par3[0]*par4[0] + par3[1]*par4[1] + par3[2]*par4[2] - par3[3]*par4[3]*np.cos(theta))/(1-np.cos(theta))\n",
    "\n",
    "coeff[4][4] = (par4[0]*par4[0] + par4[1]*par4[1] + par4[2]*par4[2] - par4[3]*par4[3]*np.cos(theta))/(1-np.cos(theta))\n",
    "\n",
    "coeff[0][5] = (par0[0]*par5[0] + par0[1]*par5[1] + par0[2]*par5[2] - par0[3]*par5[3]*np.cos(theta))/(1-np.cos(theta))\n",
    "\n",
    "coeff[5][0] = (par0[0]*par5[0] + par0[1]*par5[1] + par0[2]*par5[2] - par0[3]*par5[3]*np.cos(theta))/(1-np.cos(theta))\n",
    "\n",
    "coeff[1][5] = (par1[0]*par5[0] + par1[1]*par5[1] + par1[2]*par5[2] - par1[3]*par5[3]*np.cos(theta))/(1-np.cos(theta))\n",
    "\n",
    "coeff[5][1] = (par1[0]*par5[0] + par1[1]*par5[1] + par1[2]*par5[2] - par1[3]*par5[3]*np.cos(theta))/(1-np.cos(theta))\n",
    "\n",
    "coeff[2][5] = (par2[0]*par5[0] + par2[1]*par5[1] + par2[2]*par5[2] - par2[3]*par5[3]*np.cos(theta))/(1-np.cos(theta))\n",
    "\n",
    "coeff[5][2] = (par2[0]*par5[0] + par2[1]*par5[1] + par2[2]*par5[2] - par2[3]*par5[3]*np.cos(theta))/(1-np.cos(theta))\n",
    "\n",
    "coeff[3][5] = (par3[0]*par5[0] + par3[1]*par5[1] + par3[2]*par5[2] - par3[3]*par5[3]*np.cos(theta))/(1-np.cos(theta))\n",
    "\n",
    "coeff[5][3] = (par3[0]*par5[0] + par3[1]*par5[1] + par3[2]*par5[2] - par3[3]*par5[3]*np.cos(theta))/(1-np.cos(theta))\n",
    "\n",
    "coeff[4][5] = (par4[0]*par5[0] + par4[1]*par5[1] + par4[2]*par5[2] - par4[3]*par5[3]*np.cos(theta))/(1-np.cos(theta))\n",
    "\n",
    "coeff[5][4] = (par4[0]*par5[0] + par4[1]*par5[1] + par4[2]*par5[2] - par4[3]*par5[3]*np.cos(theta))/(1-np.cos(theta))\n",
    "\n",
    "coeff[5][5] = (par5[0]*par5[0] + par5[1]*par5[1] + par5[2]*par5[2] - par5[3]*par5[3]*np.cos(theta))/(1-np.cos(theta))"
   ]
  },
  {
   "cell_type": "code",
   "execution_count": 94,
   "metadata": {},
   "outputs": [],
   "source": [
    "# Construct Hamiltonian\n",
    "H = sum([ -1.0*coeff[i][j]*s[i]*s[j] for i in range(0,6) for j in range(0,6)])\n",
    "\n",
    "# Compile model using pyqubo\n",
    "\n",
    "model = H.compile()\n",
    "qubo, offset = model.to_qubo()"
   ]
  },
  {
   "cell_type": "code",
   "execution_count": 95,
   "metadata": {},
   "outputs": [
    {
     "output_type": "execute_result",
     "data": {
      "text/plain": "{('s[0]', 's[1]'): -211.0692289029091,\n ('s[0]', 's[2]'): 2995.383114874047,\n ('s[0]', 's[3]'): 2087.9513175263032,\n ('s[0]', 's[4]'): 1417.3378501317777,\n ('s[0]', 's[5]'): -174.33809355379887,\n ('s[1]', 's[2]'): 675.7257416802529,\n ('s[1]', 's[3]'): 470.7702628539952,\n ('s[1]', 's[4]'): 319.4712238673079,\n ('s[1]', 's[5]'): -37.50306895488038,\n ('s[2]', 's[3]'): -162.7799685752692,\n ('s[2]', 's[4]'): -110.68251761844724,\n ('s[2]', 's[5]'): 563.2507666922957,\n ('s[3]', 's[4]'): -77.08035440248203,\n ('s[3]', 's[5]'): 389.988254526908,\n ('s[4]', 's[5]'): 265.3504687506646,\n ('s[0]', 's[0]'): -570.5384760356283,\n ('s[1]', 's[1]'): -29.548976801622583,\n ('s[2]', 's[2]'): -117.18615381077282,\n ('s[3]', 's[3]'): -56.77054556710138,\n ('s[4]', 's[4]'): -26.179897244005492,\n ('s[5]', 's[5]'): -20.444190812498423}"
     },
     "metadata": {},
     "execution_count": 95
    }
   ],
   "source": [
    "qubo"
   ]
  },
  {
   "cell_type": "code",
   "execution_count": 110,
   "metadata": {},
   "outputs": [],
   "source": [
    "# Submit qubo to D-Wave\n",
    "from dwave.system.samplers import DWaveSampler\n",
    "from dwave.system.composites import EmbeddingComposite\n",
    "\n",
    "sampler = EmbeddingComposite(DWaveSampler(solver={'qpu':True}))\n",
    "response = sampler.sample_qubo(qubo)"
   ]
  },
  {
   "cell_type": "code",
   "execution_count": 111,
   "metadata": {
    "tags": []
   },
   "outputs": [
    {
     "output_type": "stream",
     "name": "stdout",
     "text": "{'s[0]': 0, 's[1]': 0, 's[2]': 1, 's[3]': 0, 's[4]': 1, 's[5]': 0}\n"
    }
   ],
   "source": [
    "for sample in response:\n",
    "    print(sample)"
   ]
  },
  {
   "cell_type": "code",
   "execution_count": 104,
   "metadata": {},
   "outputs": [],
   "source": [
    "import dimod"
   ]
  },
  {
   "cell_type": "code",
   "execution_count": 99,
   "metadata": {},
   "outputs": [],
   "source": [
    "solution = dimod.ExactSolver().sample_qubo(qubo)"
   ]
  },
  {
   "cell_type": "code",
   "execution_count": 101,
   "metadata": {},
   "outputs": [
    {
     "output_type": "execute_result",
     "data": {
      "text/plain": "SampleSet(rec.array([([1, 1, 0, 0, 0, 1], -1043.44203506, 1)],\n          dtype=[('sample', 'i1', (6,)), ('energy', '<f8'), ('num_occurrences', '<i8')]), ['s[0]', 's[1]', 's[2]', 's[3]', 's[4]', 's[5]'], {}, 'BINARY')"
     },
     "metadata": {},
     "execution_count": 101
    }
   ],
   "source": [
    "solution.lowest()"
   ]
  },
  {
   "cell_type": "code",
   "execution_count": 102,
   "metadata": {},
   "outputs": [
    {
     "output_type": "execute_result",
     "data": {
      "text/plain": "SampleSet(rec.array([([0, 0, 0, 0, 0, 0],     0.        , 1),\n           ([1, 0, 0, 0, 0, 0],  -570.53847604, 1),\n           ([1, 1, 0, 0, 0, 0],  -811.15668174, 1),\n           ([0, 1, 0, 0, 0, 0],   -29.5489768 , 1),\n           ([0, 1, 1, 0, 0, 0],   528.99061107, 1),\n           ([1, 1, 1, 0, 0, 0],  2742.766021  , 1),\n           ([1, 0, 1, 0, 0, 0],  2307.65848503, 1),\n           ([0, 0, 1, 0, 0, 0],  -117.18615381, 1),\n           ([0, 0, 1, 1, 0, 0],  -336.73666795, 1),\n           ([1, 0, 1, 1, 0, 0],  4176.05928841, 1),\n           ([1, 1, 1, 1, 0, 0],  5081.93708724, 1),\n           ([0, 1, 1, 1, 0, 0],   780.21035978, 1),\n           ([0, 1, 0, 1, 0, 0],   384.45074049, 1),\n           ([1, 1, 0, 1, 0, 0],  1690.79435307, 1),\n           ([1, 0, 0, 1, 0, 0],  1460.64229592, 1),\n           ([0, 0, 0, 1, 0, 0],   -56.77054557, 1),\n           ([0, 0, 0, 1, 1, 0],  -160.03079721, 1),\n           ([1, 0, 0, 1, 1, 0],  2774.71989441, 1),\n           ([1, 1, 0, 1, 1, 0],  3324.34317543, 1),\n           ([0, 1, 0, 1, 1, 0],   600.66171271, 1),\n           ([0, 1, 1, 1, 1, 0],   885.73881438, 1),\n           ([1, 1, 1, 1, 1, 0],  6604.80339198, 1),\n           ([1, 0, 1, 1, 1, 0],  5379.45436928, 1),\n           ([0, 0, 1, 1, 1, 0],  -550.67943722, 1),\n           ([0, 0, 1, 0, 1, 0],  -254.04856867, 1),\n           ([1, 0, 1, 0, 1, 0],  3588.1339203 , 1),\n           ([1, 1, 1, 0, 1, 0],  4342.71268014, 1),\n           ([0, 1, 1, 0, 1, 0],   711.59942007, 1),\n           ([0, 1, 0, 0, 1, 0],   263.74234982, 1),\n           ([1, 1, 0, 0, 1, 0],   899.47249501, 1),\n           ([1, 0, 0, 0, 1, 0],   820.61947685, 1),\n           ([0, 0, 0, 0, 1, 0],   -26.17989724, 1),\n           ([0, 0, 0, 0, 1, 1],   218.72638069, 1),\n           ([1, 0, 0, 0, 1, 1],   891.18766124, 1),\n           ([1, 1, 0, 0, 1, 1],   932.53761044, 1),\n           ([0, 1, 0, 0, 1, 1],   471.1455588 , 1),\n           ([0, 1, 1, 0, 1, 1],  1482.25339575, 1),\n           ([1, 1, 1, 0, 1, 1],  4939.02856226, 1),\n           ([1, 0, 1, 0, 1, 1],  4221.95287137, 1),\n           ([0, 0, 1, 0, 1, 1],   554.10847596, 1),\n           ([0, 0, 1, 1, 1, 1],   647.46586194, 1),\n           ([1, 0, 1, 1, 1, 1],  6403.26157488, 1),\n           ([1, 1, 1, 1, 1, 1],  7591.10752862, 1),\n           ([0, 1, 1, 1, 1, 1],  2046.38104458, 1),\n           ([0, 1, 0, 1, 1, 1],  1198.05317622, 1),\n           ([1, 1, 0, 1, 1, 1],  3747.39654538, 1),\n           ([1, 0, 0, 1, 1, 1],  3235.27633332, 1),\n           ([0, 0, 0, 1, 1, 1],   474.86373525, 1),\n           ([0, 0, 0, 1, 0, 1],   312.77351815, 1),\n           ([1, 0, 0, 1, 0, 1],  1655.84826608, 1),\n           ([1, 1, 0, 1, 0, 1],  1848.49725428, 1),\n           ([0, 1, 0, 1, 0, 1],   716.49173524, 1),\n           ([0, 1, 1, 1, 0, 1],  1675.50212123, 1),\n           ([1, 1, 1, 1, 0, 1],  5802.89075514, 1),\n           ([1, 0, 1, 1, 0, 1],  4934.51602526, 1),\n           ([0, 0, 1, 1, 0, 1],   596.05816245, 1),\n           ([0, 0, 1, 0, 0, 1],   425.62042207, 1),\n           ([1, 0, 1, 0, 0, 1],  2676.12696735, 1),\n           ([1, 1, 1, 0, 0, 1],  3073.73143437, 1),\n           ([0, 1, 1, 0, 0, 1],  1034.29411799, 1),\n           ([0, 1, 0, 0, 0, 1],   -87.49623657, 1),\n           ([1, 1, 0, 0, 0, 1], -1043.44203506, 1),\n           ([1, 0, 0, 0, 0, 1],  -765.3207604 , 1),\n           ([0, 0, 0, 0, 0, 1],   -20.44419081, 1)],\n          dtype=[('sample', 'i1', (6,)), ('energy', '<f8'), ('num_occurrences', '<i8')]), ['s[0]', 's[1]', 's[2]', 's[3]', 's[4]', 's[5]'], {}, 'BINARY')"
     },
     "metadata": {},
     "execution_count": 102
    }
   ],
   "source": [
    "solution"
   ]
  },
  {
   "cell_type": "code",
   "execution_count": null,
   "metadata": {},
   "outputs": [],
   "source": []
  }
 ]
}
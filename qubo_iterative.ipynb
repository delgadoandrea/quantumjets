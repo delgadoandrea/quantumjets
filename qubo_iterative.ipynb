{
 "metadata": {
  "language_info": {
   "codemirror_mode": {
    "name": "ipython",
    "version": 3
   },
   "file_extension": ".py",
   "mimetype": "text/x-python",
   "name": "python",
   "nbconvert_exporter": "python",
   "pygments_lexer": "ipython3",
   "version": "3.8.5-final"
  },
  "orig_nbformat": 2,
  "kernelspec": {
   "name": "python38264bite8c1c5bb18bd4e8697bc11d0205dd314",
   "display_name": "Python 3.8.2 64-bit"
  }
 },
 "nbformat": 4,
 "nbformat_minor": 2,
 "cells": [
  {
   "cell_type": "code",
   "execution_count": 1,
   "metadata": {},
   "outputs": [],
   "source": [
    "import numpy as np\n",
    "import sys\n",
    "import dimod\n",
    "import matplotlib.pyplot as plt\n",
    "import os\n",
    "import re\n",
    "import neal\n",
    "\n",
    "from dwave.system import EmbeddingComposite, DWaveSampler\n",
    "from dwave_qbsolv import QBSolv\n",
    "from pyqubo import Spin, Array\n",
    "from embedding_generator import generate_embedding"
   ]
  },
  {
   "cell_type": "code",
   "execution_count": 2,
   "metadata": {},
   "outputs": [],
   "source": [
    "# Define variable here\n",
    "\n",
    "# Observed big difference in obtained minimum when increasing the number of reads from 100 to 1000\n",
    "num_reads = 1000\n",
    "num_events = 1000\n",
    "path = '/home/andrea/pythiaEvents/'\n",
    "\n",
    "theta = np.pi/2.\n",
    "\n",
    "sampler = EmbeddingComposite(DWaveSampler(solver='Advantage_system1.1'))\n",
    "sa_sampler = neal.SimulatedAnnealingSampler()"
   ]
  },
  {
   "cell_type": "code",
   "execution_count": 88,
   "metadata": {},
   "outputs": [
    {
     "output_type": "stream",
     "name": "stdout",
     "text": [
      "0\n",
      "Iteration number 0\n",
      "Energy: -2012.0070412910209\n",
      "Iteration number 1\n",
      "Energy: -2012.0070412910209\n",
      "Iteration number 2\n",
      "Energy: -2012.0070412910209\n",
      "Iteration number 3\n",
      "1\n",
      "Iteration number 0\n",
      "Energy: -1951.4651314954767\n",
      "Iteration number 1\n",
      "Energy: -1955.3636079430344\n",
      "Iteration number 2\n",
      "2\n",
      "Iteration number 0\n",
      "Energy: -734.3065821813152\n",
      "Iteration number 1\n",
      "Energy: -796.7852276565509\n",
      "Iteration number 2\n",
      "Energy: -798.1794953477629\n",
      "Iteration number 3\n",
      "Energy: -804.854241068897\n",
      "Iteration number 4\n",
      "3\n",
      "Iteration number 0\n",
      "Energy: -1646.2135229366816\n",
      "Iteration number 1\n",
      "Energy: -1675.6285802622076\n",
      "Iteration number 2\n",
      "Energy: -1697.2616913832464\n",
      "Iteration number 3\n",
      "4\n",
      "Iteration number 0\n",
      "Energy: -1809.3019318874638\n",
      "Iteration number 1\n",
      "Energy: -1848.3703614818182\n",
      "Iteration number 2\n",
      "5\n",
      "Iteration number 0\n",
      "Energy: -1810.263170471561\n",
      "Iteration number 1\n",
      "Energy: -1819.8674550896062\n",
      "Iteration number 2\n",
      "6\n",
      "Iteration number 0\n",
      "Energy: -1913.4723156340842\n",
      "Iteration number 1\n",
      "Energy: -1920.9398903460826\n",
      "Iteration number 2\n",
      "7\n",
      "Iteration number 0\n",
      "Energy: -1507.9962585516082\n",
      "Iteration number 1\n",
      "8\n",
      "Iteration number 0\n",
      "Energy: -1982.7245362919905\n",
      "Iteration number 1\n",
      "9\n",
      "Iteration number 0\n",
      "Energy: -2001.0485365391992\n",
      "Iteration number 1\n"
     ]
    }
   ],
   "source": [
    "for ev in range(0, 10): #num_events):\n",
    "    print(ev)\n",
    "\n",
    "    fname = path + 'Event_' + str(ev) + '.dat'\n",
    "    f = open(fname, 'r')\n",
    "\n",
    "    pat = re.compile(r\"\\s+\")\n",
    "\n",
    "    g = list(zip(*[ pat.sub(\" \",x.strip()).split() for x in f]))\n",
    "\n",
    "    px = np.array([ float(x) for x in g[0]])\n",
    "    py = np.array([ float(x) for x in g[1]])\n",
    "    pz = np.array([ float(x) for x in g[2]])\n",
    "    e = np.array([ float(x) for x in g[3]])\n",
    "\n",
    "    # Generate qubo\n",
    "\n",
    "    n_part = len(px)\n",
    "    #print(n_part)\n",
    "    s = Array.create('s', shape=n_part, vartype='BINARY')\n",
    "\n",
    "    # Create an array of zeroes for qubo matrix coefficients\n",
    "    coeff = [[0] * n_part for _ in range(n_part)] \n",
    "\n",
    "    for i in range(0,n_part):\n",
    "        for j in range(0,n_part):\n",
    "            coeff[i][j] = (px[i]*px[j] +py[i]*py[j] + pz[i]*pz[j] - e[i]*e[j] * np.cos(theta))/(1 - np.cos(theta))\n",
    "\n",
    "    # Construct Hamiltonian\n",
    "    H = sum([ -1.0*coeff[i][j]*s[i]*s[j] for i in range(0,n_part) for j in range(0,n_part)])\n",
    "\n",
    "    # Compile model using pyqubo\n",
    "\n",
    "    model = H.compile()\n",
    "    qubo, offset = model.to_qubo()\n",
    "    bqm = dimod.BinaryQuadraticModel.from_qubo(qubo)\n",
    "\n",
    "    sum_mom = sum([np.sqrt(px[i]*px[i] + py[i]*py[i]+ pz[i]*pz[i])  for i in range(0,n_part)])\n",
    "\n",
    "    elite_threshhold = (-1.0*sum_mom*sum_mom)/6.\n",
    "\n",
    "    new_energy = 0.0\n",
    "\n",
    "    for j in range(0,5):\n",
    "        print(\"Iteration number %s\" %j)\n",
    "        # Submit problem to D-Wave and sample for a relatively small amount of times\n",
    "        response = sampler.sample(bqm, num_reads=100)\n",
    "        if (response.first.energy > new_energy): break\n",
    "        print(\"Energy: %s\" %response.first.energy)\n",
    "        \n",
    "        for p in range(n_part):\n",
    "            key = 's[%s]' %p\n",
    "            val_list = []\n",
    "            for datum in response.data(['sample','energy']):\n",
    "            #For now, lets fix the elite_threshold percentile to have energies at least half of the sum of the momentum in the event.\n",
    "                if(datum.energy < elite_threshhold):\n",
    "                    if(datum.sample[key]): val_list.append(datum.sample[key])\n",
    "            x = sum(val_list)\n",
    "            if(x>650):\n",
    "                bqm.fix_variable(key, 1)\n",
    "        new_energy = response.first.energy \n"
   ]
  },
  {
   "cell_type": "code",
   "execution_count": 90,
   "metadata": {},
   "outputs": [
    {
     "output_type": "stream",
     "name": "stdout",
     "text": [
      "0.625597623042203\n"
     ]
    }
   ],
   "source": [
    "thrust = 2.*np.sqrt(804.854241068897)/sum_mom\n",
    "print(thrust)"
   ]
  },
  {
   "cell_type": "code",
   "execution_count": 45,
   "metadata": {
    "tags": []
   },
   "outputs": [
    {
     "output_type": "stream",
     "name": "stdout",
     "text": [
      "-1032.081450522637\n"
     ]
    }
   ],
   "source": [
    "#SPVAR Algorithm\n",
    "\n",
    "# - Obtain a sample of sample_size from the sampler\n",
    "# - Narrow down the solutions to the elite_threshhold percentile\n",
    "# - Find the mean value of each variable in all solutions\n",
    "# - Fix the variables for which the mean absolute value is larger than fixing_threshold\n",
    "# - Update J and h\n",
    "\n",
    "mean_val = {}\n",
    "print(-1.0*sum_mom*sum_mom/8.)\n",
    "elite_threshhold = (-1.0*sum_mom*sum_mom)/6.\n",
    "\n",
    "for p in range(n_part):\n",
    "    key = 's[%s]' %p\n",
    "    val_list = []\n",
    "    for datum in response.data(['sample','energy']):\n",
    "        #print(datum.energy)\n",
    "        #For now, lets fix the elite_threshold percentile to have energies at least half of the sum of the momentum in the event.\n",
    "        if(datum.energy < elite_threshhold):\n",
    "            val_list.append(datum.sample[key])\n",
    "            #f.write(\"%s\\n\" %(response.first.sample[key]))\n",
    "    mean_val[key] = val_list \n"
   ]
  },
  {
   "cell_type": "code",
   "execution_count": 67,
   "metadata": {},
   "outputs": [
    {
     "output_type": "stream",
     "name": "stdout",
     "text": [
      "703 s[5]\n668 s[11]\n"
     ]
    }
   ],
   "source": [
    "import statistics\n",
    "\n",
    "for p in range(n_part):\n",
    "    key = 's[%s]' %p\n",
    "    x = sum(mean_val[key])\n",
    "    if(x>650): print(x, key)"
   ]
  },
  {
   "cell_type": "code",
   "execution_count": 65,
   "metadata": {},
   "outputs": [
    {
     "output_type": "execute_result",
     "data": {
      "text/plain": [
       "28"
      ]
     },
     "metadata": {},
     "execution_count": 65
    }
   ],
   "source": [
    "n_part"
   ]
  },
  {
   "cell_type": "code",
   "execution_count": 68,
   "metadata": {},
   "outputs": [],
   "source": [
    "bqm.fix_variable('s[5]', 1)"
   ]
  },
  {
   "cell_type": "code",
   "execution_count": 69,
   "metadata": {},
   "outputs": [],
   "source": [
    "bqm.fix_variable('s[11]', 1)"
   ]
  },
  {
   "cell_type": "code",
   "execution_count": 71,
   "metadata": {},
   "outputs": [
    {
     "output_type": "execute_result",
     "data": {
      "text/plain": [
       "-2005.200790919585"
      ]
     },
     "metadata": {},
     "execution_count": 71
    }
   ],
   "source": [
    "response.first.energy"
   ]
  },
  {
   "cell_type": "code",
   "execution_count": 75,
   "metadata": {},
   "outputs": [],
   "source": [
    "response = sampler.sample(bqm, num_reads=100)\n"
   ]
  },
  {
   "cell_type": "code",
   "execution_count": 76,
   "metadata": {},
   "outputs": [
    {
     "output_type": "execute_result",
     "data": {
      "text/plain": [
       "-2012.0050389347948"
      ]
     },
     "metadata": {},
     "execution_count": 76
    }
   ],
   "source": [
    "response.first.energy"
   ]
  },
  {
   "cell_type": "code",
   "execution_count": null,
   "metadata": {},
   "outputs": [],
   "source": []
  }
 ]
}
{
 "metadata": {
  "language_info": {
   "codemirror_mode": {
    "name": "ipython",
    "version": 3
   },
   "file_extension": ".py",
   "mimetype": "text/x-python",
   "name": "python",
   "nbconvert_exporter": "python",
   "pygments_lexer": "ipython3",
   "version": "3.9.2-final"
  },
  "orig_nbformat": 2,
  "kernelspec": {
   "name": "python3",
   "display_name": "Python 3.9.2 64-bit",
   "metadata": {
    "interpreter": {
     "hash": "aee8b7b246df8f9039afb4144a1f6fd8d2ca17a180786b69acc140d282b71a49"
    }
   }
  }
 },
 "nbformat": 4,
 "nbformat_minor": 2,
 "cells": [
  {
   "source": [
    "# Notebook to loop over events generated in Pythia's c++ version\n"
   ],
   "cell_type": "markdown",
   "metadata": {}
  },
  {
   "cell_type": "code",
   "execution_count": 1,
   "metadata": {},
   "outputs": [],
   "source": [
    "import numpy as np\n",
    "import sys\n",
    "import dimod\n",
    "import matplotlib.pyplot as plt\n",
    "import os\n",
    "import re\n",
    "import neal\n",
    "\n",
    "from dwave.system import EmbeddingComposite, DWaveSampler, ReverseAdvanceComposite\n",
    "from dwave_qbsolv import QBSolv\n",
    "from pyqubo import Spin, Array\n",
    "from embedding_generator import generate_embedding"
   ]
  },
  {
   "cell_type": "code",
   "execution_count": 2,
   "metadata": {},
   "outputs": [],
   "source": [
    "# Define variable here\n",
    "\n",
    "# Observed big difference in obtained minimum when increasing the number of reads from 100 to 1000\n",
    "num_reads = 10000\n",
    "num_events = 1000\n",
    "path = '/Users/1zd/quantumjets/pythiaEvents/'\n",
    "\n",
    "theta = np.pi/2.\n",
    "\n",
    "sampler = EmbeddingComposite(DWaveSampler(solver='Advantage_system1.1'))\n",
    "sa_sampler = neal.SimulatedAnnealingSampler()"
   ]
  },
  {
   "cell_type": "code",
   "execution_count": 10,
   "metadata": {
    "tags": []
   },
   "outputs": [
    {
     "output_type": "stream",
     "name": "stdout",
     "text": [
      "939\n",
      "0.9685575037793271\n",
      "940\n",
      "0.9719162814953416\n",
      "941\n",
      "0.9699583643541713\n",
      "942\n",
      "0.971542331163138\n",
      "943\n",
      "0.9492612155731849\n",
      "944\n",
      "0.9620912667750917\n",
      "945\n",
      "0.9317576133478563\n",
      "946\n",
      "0.8690522253415082\n",
      "947\n",
      "0.9445618705574651\n",
      "948\n",
      "0.9412393375245816\n",
      "949\n",
      "0.9802923884698803\n",
      "950\n",
      "0.9132366617536885\n",
      "951\n",
      "0.9579809018757005\n",
      "952\n",
      "0.9687592450323753\n",
      "953\n",
      "0.9797402647028792\n",
      "954\n",
      "0.7401055013961803\n",
      "955\n",
      "0.9691237941905083\n",
      "956\n",
      "0.9622664328330128\n",
      "957\n",
      "0.9546222536957486\n",
      "958\n",
      "0.9739834487377651\n",
      "959\n",
      "0.9558935989414561\n",
      "960\n",
      "0.918284427538997\n",
      "961\n",
      "0.9663888099910367\n",
      "962\n",
      "0.9669284540816931\n",
      "963\n",
      "0.9330682185788349\n",
      "964\n",
      "0.9909091367124017\n",
      "965\n",
      "0.9636098522225724\n",
      "966\n",
      "0.9296182155161881\n",
      "967\n",
      "0.9122653982997729\n",
      "968\n",
      "0.9157775983659353\n",
      "969\n",
      "0.9661309084944962\n",
      "970\n",
      "0.9596643182977881\n",
      "971\n",
      "0.9432646820061409\n",
      "972\n",
      "0.9501954993019022\n",
      "973\n",
      "0.8480048757756243\n",
      "974\n",
      "0.97291536971852\n",
      "975\n",
      "0.948778396018473\n",
      "976\n",
      "0.9422825279626476\n",
      "977\n",
      "0.9589548554484743\n",
      "978\n",
      "0.959759165613206\n",
      "979\n",
      "0.8090677611718391\n",
      "980\n",
      "0.9770776621876438\n",
      "981\n",
      "0.9654932330154663\n",
      "982\n",
      "0.932796635710627\n",
      "983\n",
      "0.9365844045482953\n",
      "984\n",
      "0.9694205551511001\n",
      "985\n",
      "0.9373309479807318\n",
      "986\n",
      "0.8947787245205953\n",
      "987\n",
      "0.9558376055084864\n",
      "988\n",
      "0.7381610277616307\n",
      "989\n",
      "0.8173093200413634\n",
      "990\n",
      "0.9705542130388313\n",
      "991\n",
      "0.8201916428995406\n",
      "992\n",
      "0.983168151655619\n",
      "993\n",
      "0.9500896771520981\n",
      "994\n",
      "0.9548214571154788\n",
      "995\n",
      "0.8151079583292441\n",
      "996\n",
      "0.8808243761575238\n",
      "997\n",
      "0.9244889102497316\n",
      "998\n",
      "0.9696978560634204\n",
      "999\n",
      "0.9162565094715236\n"
     ]
    }
   ],
   "source": [
    "\n",
    "with open('/Users/1zd/quantumjets/pythiaEvents/DWaveResults_penalty_3.dat', 'w') as fout:\n",
    "    for ev in range(939, num_events):\n",
    "        print(ev)\n",
    "\n",
    "        fname = path + 'Event_' + str(ev) + '.dat'\n",
    "        f = open(fname)\n",
    "\n",
    "        pat = re.compile(r\"\\s+\")\n",
    "\n",
    "        g = list(zip(*[ pat.sub(\" \",x.strip()).split() for x in f]))\n",
    "\n",
    "        px = np.array([ float(x) for x in g[0]])\n",
    "        py = np.array([ float(x) for x in g[1]])\n",
    "        pz = np.array([ float(x) for x in g[2]])\n",
    "        e = np.array([ float(x) for x in g[3]])\n",
    "\n",
    "        # Generate qubo\n",
    "\n",
    "        n_part = len(px)\n",
    "        #print(n_part)\n",
    "        s = Array.create('s', shape=n_part, vartype='BINARY')\n",
    "\n",
    "        # Create an array of zeroes for qubo matrix coefficients\n",
    "        coeff = [[0] * n_part for _ in range(n_part)] \n",
    "\n",
    "        for i in range(0,n_part):\n",
    "            for j in range(0,n_part):\n",
    "                coeff[i][j] = (px[i]*px[j] +py[i]*py[j] + pz[i]*pz[j] - e[i]*e[j] * np.cos(theta))/(1 - np.cos(theta))\n",
    "\n",
    "        # Construct Hamiltonian\n",
    "        #H = sum([ ((1.0/(np.sqrt(px[i]*px[i] +py[i]*py[i] + pz[i]*pz[i])*np.sqrt(px[j]*px[j] +py[j]*py[j] + pz[j]*pz[j]))) - 1.0)*coeff[i][j]*s[i]*s[j] for i in range(0,n_part) for j in range(0,n_part)])\n",
    "        H = sum([ -1.0*coeff[i][j]*s[i]*s[j] for i in range(0,n_part) for j in range(0,n_part)])\n",
    "\n",
    "        # Compile model using pyqubo\n",
    "\n",
    "        model = H.compile()\n",
    "        qubo, offset = model.to_qubo()\n",
    "\n",
    "        # Submit problem to D-Wave\n",
    "        #response = QBSolv().sample_qubo(qubo)#\n",
    "        ch_str = qubo[max(qubo, key=qubo.get)]*0.1\n",
    "        response = sampler.sample_qubo(qubo,num_reads=5000, chain_strength=ch_str, annealing_time=100)\n",
    "        #sampler_reverse = ReverseAdvanceComposite(sampler)\n",
    "        #schedule = [[[0.0, 1.0], [t, 0.5], [20, 1.0]] for t in (5, 10, 15)]\n",
    "        #sampleset = sampler_reverse.sample_qubo(qubo, anneal_schedules=schedule, num_reads=100,reinitialize_state=True) \n",
    "\n",
    "\n",
    "        fnameout = '/Users/1zd/quantumjets/pythiaEvents/Event_%s_qsolutions_v2.dat' %ev\n",
    "        with open(fnameout, 'w') as f:\n",
    "            for p in range(n_part):\n",
    "                key = 's[%s]' %p\n",
    "                f.write(\"%s\\n\" %(response.first.sample[key]))\n",
    "    \n",
    "    #print('Finished annealing run on Advantage 1.1')\n",
    "\n",
    "        #print(response.first.energy)\n",
    "\n",
    "        #response_sa = sa_sampler.sample_qubo(qubo)\n",
    "\n",
    "    #print('Finished simmulated annealing routine')\n",
    "\n",
    "    #print(response_sa.first.energy)\n",
    "\n",
    "        sum_mom = sum([np.sqrt(px[i]*px[i] + py[i]*py[i]+ pz[i]*pz[i])  for i in range(0,n_part)])\n",
    "    \n",
    "        #print(sum_mom)\n",
    "        thrust = 2.*np.sqrt(-1.*response.first.energy)/sum_mom\n",
    "        print(thrust)\n",
    "        fout.write(\"%s \\n\" %(thrust))\n",
    "\n",
    "        #rev = 2.*np.sqrt(-1.*sampleset.first.energy)/sum_mom\n",
    "        #print(rev)\n",
    "\n",
    "        #thrust_sa = 2.*np.sqrt(-1.*response_sa.first.energy)/sum_mom\n",
    "        #fout.write(\"%s  %s  %s \\n\" %(thrust,thrust_sa,rev))\n",
    "    \n",
    "    #print(response.data_vectors['sample'][0])\n",
    "    # Store solutions\n",
    "\n",
    "    #qpu_solutions = []\n",
    "\n",
    "    #for datum in response.data(['sample','energy']):\n",
    "    #    print(datum.energy)\n",
    "    #    qpu_solutions.append(datum.sample)\n"
   ]
  },
  {
   "cell_type": "code",
   "execution_count": 10,
   "metadata": {},
   "outputs": [],
   "source": [
    "with open('/home/andrea/pythiaEvents/Event_0_qsolutions.dat', 'w') as f:\n",
    "    for p in range(n_part):\n",
    "        key = 's[%s]' %p\n",
    "        f.write(\"%s\\n\" %(response.first.sample[key]))"
   ]
  },
  {
   "cell_type": "code",
   "execution_count": 17,
   "metadata": {},
   "outputs": [
    {
     "output_type": "execute_result",
     "data": {
      "text/plain": [
       "0"
      ]
     },
     "metadata": {},
     "execution_count": 17
    }
   ],
   "source": [
    "p = 0\n",
    "response.first.sample['s[7]']"
   ]
  },
  {
   "cell_type": "code",
   "execution_count": null,
   "metadata": {},
   "outputs": [],
   "source": [
    "thrust = sum([ -1.0*coeff[i][j]*response.first.sample['s['+str(i)+']']*response.first.sample['s['+str(j)+']'] for i in range(0,n_part) for j in range(0,n_part)])\n",
    "print(thrust)"
   ]
  },
  {
   "cell_type": "code",
   "execution_count": 24,
   "metadata": {},
   "outputs": [],
   "source": [
    "sum_mom = sum([np.sqrt(px[i]*px[i] + py[i]*py[i]+ pz[i]*pz[i])  for i in range(0,n_part)])"
   ]
  },
  {
   "cell_type": "code",
   "execution_count": 25,
   "metadata": {},
   "outputs": [
    {
     "output_type": "stream",
     "name": "stdout",
     "text": [
      "90.86611912138152\n"
     ]
    }
   ],
   "source": [
    "print(sum_mom)"
   ]
  },
  {
   "cell_type": "code",
   "execution_count": null,
   "metadata": {},
   "outputs": [],
   "source": [
    "-thrust/(2*sum_mom)"
   ]
  },
  {
   "cell_type": "code",
   "execution_count": 1,
   "metadata": {},
   "outputs": [
    {
     "output_type": "error",
     "ename": "NameError",
     "evalue": "name 'qubo' is not defined",
     "traceback": [
      "\u001b[0;31m---------------------------------------------------------------------------\u001b[0m",
      "\u001b[0;31mNameError\u001b[0m                                 Traceback (most recent call last)",
      "\u001b[0;32m<ipython-input-1-9102bfa1e3ea>\u001b[0m in \u001b[0;36m<module>\u001b[0;34m\u001b[0m\n\u001b[0;32m----> 1\u001b[0;31m \u001b[0mqubo\u001b[0m\u001b[0;34m\u001b[0m\u001b[0;34m\u001b[0m\u001b[0m\n\u001b[0m",
      "\u001b[0;31mNameError\u001b[0m: name 'qubo' is not defined"
     ]
    }
   ],
   "source": [
    "qubo"
   ]
  },
  {
   "cell_type": "code",
   "execution_count": null,
   "metadata": {},
   "outputs": [],
   "source": []
  }
 ]
}
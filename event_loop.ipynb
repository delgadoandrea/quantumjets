{
 "metadata": {
  "language_info": {
   "codemirror_mode": {
    "name": "ipython",
    "version": 3
   },
   "file_extension": ".py",
   "mimetype": "text/x-python",
   "name": "python",
   "nbconvert_exporter": "python",
   "pygments_lexer": "ipython3",
   "version": "3.8.5-final"
  },
  "orig_nbformat": 2,
  "kernelspec": {
   "name": "python3",
   "display_name": "Python 3"
  }
 },
 "nbformat": 4,
 "nbformat_minor": 2,
 "cells": [
  {
   "source": [
    "# Notebook to loop over events generated in Pythia's c++ version\n"
   ],
   "cell_type": "markdown",
   "metadata": {}
  },
  {
   "cell_type": "code",
   "execution_count": 1,
   "metadata": {},
   "outputs": [],
   "source": [
    "import numpy as np\n",
    "import sys\n",
    "import dimod\n",
    "import matplotlib.pyplot as plt\n",
    "import os\n",
    "import re\n",
    "import neal\n",
    "\n",
    "from dwave.system import EmbeddingComposite, DWaveSampler\n",
    "from dwave_qbsolv import QBSolv\n",
    "from pyqubo import Spin, Array\n",
    "from embedding_generator import generate_embedding"
   ]
  },
  {
   "cell_type": "code",
   "execution_count": 2,
   "metadata": {},
   "outputs": [],
   "source": [
    "# Define variable here\n",
    "\n",
    "# Observed big difference in obtained minimum when increasing the number of reads from 100 to 1000\n",
    "num_reads = 1000\n",
    "num_events = 1000\n",
    "path = '/home/andrea/pythiaEvents/'\n",
    "\n",
    "theta = np.pi/2.\n",
    "\n",
    "sampler = EmbeddingComposite(DWaveSampler(solver='Advantage_system1.1'))\n",
    "sa_sampler = neal.SimulatedAnnealingSampler()"
   ]
  },
  {
   "cell_type": "code",
   "execution_count": 5,
   "metadata": {
    "tags": []
   },
   "outputs": [
    {
     "output_type": "stream",
     "name": "stdout",
     "text": [
      "0\n",
      "-2012.0070412910209\n",
      "90.86611912138152\n",
      "0.9872855120605756\n",
      "1\n",
      "-1955.3636079430344\n",
      "90.22468231234463\n",
      "0.9802083508748164\n"
     ]
    }
   ],
   "source": [
    "\n",
    "with open('/home/andrea/pythiaEvents/DWaveResults.dat', 'w') as fout:\n",
    "    for ev in range(0, 2): #num_events):\n",
    "        print(ev)\n",
    "\n",
    "        fname = path + 'Event_' + str(ev) + '.dat'\n",
    "        f = open(fname)\n",
    "\n",
    "        pat = re.compile(r\"\\s+\")\n",
    "\n",
    "        g = list(zip(*[ pat.sub(\" \",x.strip()).split() for x in f]))\n",
    "\n",
    "        px = np.array([ float(x) for x in g[0]])\n",
    "        py = np.array([ float(x) for x in g[1]])\n",
    "        pz = np.array([ float(x) for x in g[2]])\n",
    "        e = np.array([ float(x) for x in g[3]])\n",
    "\n",
    "        # Generate qubo\n",
    "\n",
    "        n_part = len(px)\n",
    "        #print(n_part)\n",
    "        s = Array.create('s', shape=n_part, vartype='BINARY')\n",
    "\n",
    "        # Create an array of zeroes for qubo matrix coefficients\n",
    "        coeff = [[0] * n_part for _ in range(n_part)] \n",
    "\n",
    "        for i in range(0,n_part):\n",
    "            for j in range(0,n_part):\n",
    "                coeff[i][j] = (px[i]*px[j] +py[i]*py[j] + pz[i]*pz[j] - e[i]*e[j] * np.cos(theta))/(1 - np.cos(theta))\n",
    "\n",
    "        # Construct Hamiltonian\n",
    "        H = sum([ -1.0*coeff[i][j]*s[i]*s[j] for i in range(0,n_part) for j in range(0,n_part)])\n",
    "\n",
    "        # Compile model using pyqubo\n",
    "\n",
    "        model = H.compile()\n",
    "        qubo, offset = model.to_qubo()\n",
    "\n",
    "        # Submit problem to D-Wave\n",
    "        #response = QBSolv().sample_qubo(qubo)#\n",
    "        response = sampler.sample_qubo(qubo,num_reads=num_reads)\n",
    "\n",
    "        fnameout = '/home/andrea/pythiaEvents/Event_%s_qsolutions.dat' %ev\n",
    "        with open(fnameout, 'w') as f:\n",
    "            for p in range(n_part):\n",
    "                key = 's[%s]' %p\n",
    "                f.write(\"%s\\n\" %(response.first.sample[key]))\n",
    "    \n",
    "    #print('Finished annealing run on Advantage 1.1')\n",
    "\n",
    "        print(response.first.energy)\n",
    "\n",
    "        #response_sa = sa_sampler.sample_qubo(qubo)\n",
    "\n",
    "    #print('Finished simmulated annealing routine')\n",
    "\n",
    "    #print(response_sa.first.energy)\n",
    "\n",
    "        sum_mom = sum([np.sqrt(px[i]*px[i] + py[i]*py[i]+ pz[i]*pz[i])  for i in range(0,n_part)])\n",
    "    \n",
    "        print(sum_mom)\n",
    "        thrust = 2.*np.sqrt(-1.*response.first.energy)/sum_mom\n",
    "        print(thrust)\n",
    "\n",
    "        #thrust_sa = 2.*np.sqrt(-1.*response_sa.first.energy)/sum_mom\n",
    "        #fout.write(\"%s\\n\" %(thrust))\n",
    "    \n",
    "    #print(response.data_vectors['sample'][0])\n",
    "    # Store solutions\n",
    "\n",
    "    #qpu_solutions = []\n",
    "\n",
    "    #for datum in response.data(['sample','energy']):\n",
    "    #    print(datum.energy)\n",
    "    #    qpu_solutions.append(datum.sample)\n"
   ]
  },
  {
   "cell_type": "code",
   "execution_count": 10,
   "metadata": {},
   "outputs": [],
   "source": [
    "with open('/home/andrea/pythiaEvents/Event_0_qsolutions.dat', 'w') as f:\n",
    "    for p in range(n_part):\n",
    "        key = 's[%s]' %p\n",
    "        f.write(\"%s\\n\" %(response.first.sample[key]))"
   ]
  },
  {
   "cell_type": "code",
   "execution_count": 17,
   "metadata": {},
   "outputs": [
    {
     "output_type": "execute_result",
     "data": {
      "text/plain": [
       "0"
      ]
     },
     "metadata": {},
     "execution_count": 17
    }
   ],
   "source": [
    "p = 0\n",
    "response.first.sample['s[7]']"
   ]
  },
  {
   "cell_type": "code",
   "execution_count": null,
   "metadata": {},
   "outputs": [],
   "source": [
    "thrust = sum([ -1.0*coeff[i][j]*response.first.sample['s['+str(i)+']']*response.first.sample['s['+str(j)+']'] for i in range(0,n_part) for j in range(0,n_part)])\n",
    "print(thrust)"
   ]
  },
  {
   "cell_type": "code",
   "execution_count": 24,
   "metadata": {},
   "outputs": [],
   "source": [
    "sum_mom = sum([np.sqrt(px[i]*px[i] + py[i]*py[i]+ pz[i]*pz[i])  for i in range(0,n_part)])"
   ]
  },
  {
   "cell_type": "code",
   "execution_count": 25,
   "metadata": {},
   "outputs": [
    {
     "output_type": "stream",
     "name": "stdout",
     "text": [
      "90.86611912138152\n"
     ]
    }
   ],
   "source": [
    "print(sum_mom)"
   ]
  },
  {
   "cell_type": "code",
   "execution_count": null,
   "metadata": {},
   "outputs": [],
   "source": [
    "-thrust/(2*sum_mom)"
   ]
  },
  {
   "cell_type": "code",
   "execution_count": null,
   "metadata": {},
   "outputs": [],
   "source": []
  }
 ]
}
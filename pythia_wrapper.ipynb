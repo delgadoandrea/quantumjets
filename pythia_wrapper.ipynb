{
 "metadata": {
  "language_info": {
   "codemirror_mode": {
    "name": "ipython",
    "version": 3
   },
   "file_extension": ".py",
   "mimetype": "text/x-python",
   "name": "python",
   "nbconvert_exporter": "python",
   "pygments_lexer": "ipython3",
   "version": "3.8.5-final"
  },
  "orig_nbformat": 2,
  "kernelspec": {
   "name": "python38264bite8c1c5bb18bd4e8697bc11d0205dd314",
   "display_name": "Python 3.8.2 64-bit"
  }
 },
 "nbformat": 4,
 "nbformat_minor": 2,
 "cells": [
  {
   "cell_type": "code",
   "execution_count": 1,
   "metadata": {},
   "outputs": [],
   "source": [
    "# The following commands set the path to the Pythia 8 Python interface, setting the path from within Python\n",
    "import sys\n",
    "cfg = open('Makefile.inc')\n",
    "lib = '/home/andrea/pythia8303/lib'\n",
    "for line in cfg:\n",
    "    if line.startswith('PREFIX_LIB='): lib = line[11:-1]; break\n",
    "sys.path.insert(0, lib)\n",
    "import pythia8"
   ]
  },
  {
   "cell_type": "code",
   "execution_count": 2,
   "metadata": {},
   "outputs": [
    {
     "output_type": "execute_result",
     "data": {
      "text/plain": [
       "True"
      ]
     },
     "metadata": {},
     "execution_count": 2
    }
   ],
   "source": [
    "# Pythia settings for generation of e+e- events at the Z-pole\n",
    "\n",
    "pythia = pythia8.Pythia()\n",
    "pythia.readString(\"Beams:eCM = 91.1876\")\n",
    "pythia.readString(\"Beams:idA = 11\") # LEP initialization at Z0 mass\n",
    "pythia.readString(\"Beams:idB = -11\")\n",
    "pythia.readString(\"WeakSingleBoson:ffbar2gmZ = on\") # Process selection\n",
    "pythia.readString(\"23:onMode = off\") # Switch off all Z0 decays and then switch back on those quarks\n",
    "pythia.readString(\"23:onIfAny = 1 2 3 4 5\")\n",
    "pythia.readString(\"PDF:lepton = off\") # Allos no substructure in e+e- beams: normal for LEP data\n",
    "pythia.init()"
   ]
  },
  {
   "cell_type": "code",
   "execution_count": 4,
   "metadata": {},
   "outputs": [
    {
     "output_type": "error",
     "ename": "NameError",
     "evalue": "name 'Sphericity' is not defined",
     "traceback": [
      "\u001b[0;31m---------------------------------------------------------------------------\u001b[0m",
      "\u001b[0;31mNameError\u001b[0m                                 Traceback (most recent call last)",
      "\u001b[0;32m<ipython-input-4-a7a264dd7441>\u001b[0m in \u001b[0;36m<module>\u001b[0;34m\u001b[0m\n\u001b[0;32m----> 1\u001b[0;31m \u001b[0msph\u001b[0m \u001b[0;34m=\u001b[0m \u001b[0mSphericity\u001b[0m\u001b[0;34m(\u001b[0m\u001b[0;34m)\u001b[0m\u001b[0;34m\u001b[0m\u001b[0;34m\u001b[0m\u001b[0m\n\u001b[0m",
      "\u001b[0;31mNameError\u001b[0m: name 'Sphericity' is not defined"
     ]
    }
   ],
   "source": []
  },
  {
   "cell_type": "code",
   "execution_count": null,
   "metadata": {},
   "outputs": [],
   "source": [
    "# Begin event loop. Generate event. Skip if error. List first one.\n",
    "for iEvent in range(0, 100):\n",
    "    if not pythia.next(): continue\n",
    "    # Find number of all final charged particles and fill histogram.\n",
    "    nCharged = 0\n",
    "\n",
    "    #Loop over particles in event\n",
    "    for prt in pythia.event:\n",
    "        if prt.isFinal() and prt.isCharged(): nCharged += 1\n",
    "# End of event loop. Statistics. Histogram. Done.\n",
    "pythia.stat();"
   ]
  },
  {
   "cell_type": "code",
   "execution_count": null,
   "metadata": {},
   "outputs": [],
   "source": []
  }
 ]
}
{
 "metadata": {
  "language_info": {
   "codemirror_mode": {
    "name": "ipython",
    "version": 3
   },
   "file_extension": ".py",
   "mimetype": "text/x-python",
   "name": "python",
   "nbconvert_exporter": "python",
   "pygments_lexer": "ipython3",
   "version": "3.8.5-final"
  },
  "orig_nbformat": 2,
  "kernelspec": {
   "name": "python3",
   "display_name": "Python 3"
  }
 },
 "nbformat": 4,
 "nbformat_minor": 2,
 "cells": [
  {
   "cell_type": "code",
   "execution_count": 1,
   "metadata": {},
   "outputs": [],
   "source": [
    "import numpy as np\n",
    "import sys\n",
    "import dimod\n",
    "import matplotlib.pyplot as plt\n",
    "import os\n",
    "import re\n",
    "import neal\n",
    "import math\n",
    "\n",
    "from dwave.system import EmbeddingComposite, DWaveSampler\n",
    "from dwave_qbsolv import QBSolv\n",
    "from pyqubo import Spin, Array\n",
    "from embedding_generator import generate_embedding"
   ]
  },
  {
   "cell_type": "code",
   "execution_count": 2,
   "metadata": {},
   "outputs": [],
   "source": [
    "# Define variable here\n",
    "\n",
    "# Observed big difference in obtained minimum when increasing the number of reads from 100 to 1000\n",
    "num_reads = 100\n",
    "num_events = 1000\n",
    "num_iter = 40\n",
    "\n",
    "path = '/home/andrea/pythiaEvents/'\n",
    "\n",
    "theta = np.pi/2.\n",
    "\n",
    "sampler = EmbeddingComposite(DWaveSampler(solver='Advantage_system1.1'))\n",
    "sa_sampler = neal.SimulatedAnnealingSampler()\n",
    "\n",
    "rcs = np.linspace(0.25, 2.0, 8)\n",
    "ev_list = [0,128,108,60]\n",
    "num_part = [28,83,45,64]\n",
    "thrust = [0.987285,0.846382,0.838738,0.916002]"
   ]
  },
  {
   "cell_type": "code",
   "execution_count": 3,
   "metadata": {},
   "outputs": [],
   "source": [
    "def truncate(f, n):\n",
    "    return math.floor(f * 10 ** n) / 10 ** n"
   ]
  },
  {
   "cell_type": "code",
   "execution_count": 16,
   "metadata": {},
   "outputs": [
    {
     "output_type": "stream",
     "name": "stdout",
     "text": [
      "Event Number 9\n",
      "9\n",
      "Number of particles: 23\n",
      "Relative Strength: 0.25\n",
      "40\n",
      "Relative Strength: 0.5\n",
      "40\n",
      "Relative Strength: 0.75\n",
      "40\n",
      "Relative Strength: 1.0\n",
      "35\n",
      "Relative Strength: 1.25\n",
      "25\n",
      "Relative Strength: 1.5\n",
      "24\n",
      "Relative Strength: 1.75\n",
      "13\n",
      "Relative Strength: 2.0\n",
      "9\n"
     ]
    }
   ],
   "source": [
    "\n",
    "#with open('/home/andrea/pythiaEvents/chain_strength_scan_Ev_npart.dat', 'w') as fout:\n",
    "for ev in range(9,10):\n",
    "    print('Event Number %s' %ev)\n",
    "    fout_name = path + 'chain_strength_scan_Ev' + str(ev) + '.dat'\n",
    "    print(ev)\n",
    "\n",
    "    with open(fout_name, 'w') as fout:\n",
    "\n",
    "        fname = path + 'Event_' + str(ev) + '.dat'\n",
    "        f = open(fname)\n",
    "\n",
    "        pat = re.compile(r\"\\s+\")\n",
    "\n",
    "        g = list(zip(*[ pat.sub(\" \",x.strip()).split() for x in f]))\n",
    "\n",
    "        px = np.array([ float(x) for x in g[0]])\n",
    "        py = np.array([ float(x) for x in g[1]])\n",
    "        pz = np.array([ float(x) for x in g[2]])\n",
    "        e = np.array([ float(x) for x in g[3]])\n",
    "\n",
    "        # Generate qubo\n",
    "\n",
    "        n_part = len(px)\n",
    "        print('Number of particles: %s' %n_part)\n",
    "        s = Array.create('s', shape=n_part, vartype='BINARY')\n",
    "\n",
    "        # Create an array of zeroes for qubo matrix coefficients\n",
    "        coeff = [[0] * n_part for _ in range(n_part)] \n",
    "\n",
    "        for i in range(0,n_part):\n",
    "            for j in range(0,n_part):\n",
    "                coeff[i][j] = (px[i]*px[j] +py[i]*py[j] + pz[i]*pz[j] - e[i]*e[j] * np.cos(theta))/(1 - np.cos(theta))\n",
    "\n",
    "        # Construct Hamiltonian\n",
    "        H = sum([ -1.0*coeff[i][j]*s[i]*s[j] for i in range(0,n_part) for j in range(0,n_part)])\n",
    "\n",
    "        # Compile model using pyqubo\n",
    "\n",
    "        model = H.compile()\n",
    "        qubo, offset = model.to_qubo()\n",
    "\n",
    "        sum_mom = sum([np.sqrt(px[i]*px[i] + py[i]*py[i]+ pz[i]*pz[i])  for i in range(0,n_part)])\n",
    "\n",
    "        # Submit problem to D-Wave\n",
    "        yvals = {}\n",
    "        for r in rcs:\n",
    "            y_list = []\n",
    "            counter = 0\n",
    "            ch_str = qubo[max(qubo, key=qubo.get)]*r\n",
    "            print('Relative Strength: %s' %r)\n",
    "            for i in range(num_iter):\n",
    "                response = sampler.sample_qubo(qubo, num_reads = 10000, chain_strength=ch_str)\n",
    "                #response.first.energy\n",
    "                dthrust = 2.*np.sqrt(-1.*response.first.energy)/sum_mom\n",
    "                #print(truncate(dthrust,6))\n",
    "                y_list.append(truncate(dthrust,6))\n",
    "                if(truncate(dthrust,6) == 0.986427): \n",
    "                    counter += 1\n",
    "            yvals[r] = y_list\n",
    "            print(counter)\n",
    "\n",
    "        #fout.write(\"%s  %s  %s \\n\" %(thrust,thrust_sa,rev))\n",
    "    \n"
   ]
  },
  {
   "cell_type": "code",
   "execution_count": null,
   "metadata": {},
   "outputs": [],
   "source": []
  },
  {
   "cell_type": "code",
   "execution_count": 18,
   "metadata": {},
   "outputs": [
    {
     "output_type": "error",
     "ename": "TypeError",
     "evalue": "lineplot() got multiple values for argument 'x'",
     "traceback": [
      "\u001b[0;31m---------------------------------------------------------------------------\u001b[0m",
      "\u001b[0;31mTypeError\u001b[0m                                 Traceback (most recent call last)",
      "\u001b[0;32m<ipython-input-18-3cbb597c8be1>\u001b[0m in \u001b[0;36m<module>\u001b[0;34m\u001b[0m\n\u001b[1;32m      7\u001b[0m \u001b[0my_107\u001b[0m \u001b[0;34m=\u001b[0m \u001b[0;34m[\u001b[0m\u001b[0;36m0.475\u001b[0m\u001b[0;34m,\u001b[0m \u001b[0;36m0.0\u001b[0m\u001b[0;34m,\u001b[0m \u001b[0;36m0.0\u001b[0m\u001b[0;34m,\u001b[0m   \u001b[0;36m0.0\u001b[0m\u001b[0;34m,\u001b[0m   \u001b[0;36m0.0\u001b[0m\u001b[0;34m,\u001b[0m \u001b[0;36m0.0\u001b[0m\u001b[0;34m,\u001b[0m \u001b[0;36m0.0\u001b[0m\u001b[0;34m,\u001b[0m \u001b[0;36m0.0\u001b[0m\u001b[0;34m]\u001b[0m\u001b[0;34m\u001b[0m\u001b[0;34m\u001b[0m\u001b[0m\n\u001b[1;32m      8\u001b[0m \u001b[0my_9\u001b[0m   \u001b[0;34m=\u001b[0m \u001b[0;34m[\u001b[0m\u001b[0;36m1.0\u001b[0m\u001b[0;34m,\u001b[0m   \u001b[0;36m1.0\u001b[0m\u001b[0;34m,\u001b[0m \u001b[0;36m1.0\u001b[0m\u001b[0;34m,\u001b[0m \u001b[0;36m0.875\u001b[0m\u001b[0;34m,\u001b[0m \u001b[0;36m0.625\u001b[0m\u001b[0;34m,\u001b[0m \u001b[0;36m0.6\u001b[0m\u001b[0;34m,\u001b[0m \u001b[0;36m0.325\u001b[0m\u001b[0;34m,\u001b[0m \u001b[0;36m0.225\u001b[0m\u001b[0;34m]\u001b[0m\u001b[0;34m\u001b[0m\u001b[0;34m\u001b[0m\u001b[0m\n\u001b[0;32m----> 9\u001b[0;31m \u001b[0msns\u001b[0m\u001b[0;34m.\u001b[0m\u001b[0mlineplot\u001b[0m\u001b[0;34m(\u001b[0m\u001b[0mrcs\u001b[0m\u001b[0;34m,\u001b[0m \u001b[0my_0\u001b[0m\u001b[0;34m,\u001b[0m \u001b[0mx\u001b[0m\u001b[0;34m=\u001b[0m\u001b[0;34m\"Rel. chain strength (RCS)\"\u001b[0m\u001b[0;34m,\u001b[0m \u001b[0my\u001b[0m\u001b[0;34m=\u001b[0m\u001b[0;34m\"Success rate\"\u001b[0m \u001b[0;34m)\u001b[0m\u001b[0;34m\u001b[0m\u001b[0;34m\u001b[0m\u001b[0m\n\u001b[0m\u001b[1;32m     10\u001b[0m \u001b[0msns\u001b[0m\u001b[0;34m.\u001b[0m\u001b[0mlineplot\u001b[0m\u001b[0;34m(\u001b[0m\u001b[0mrcs\u001b[0m\u001b[0;34m,\u001b[0m \u001b[0my_1\u001b[0m\u001b[0;34m)\u001b[0m\u001b[0;34m\u001b[0m\u001b[0;34m\u001b[0m\u001b[0m\n\u001b[1;32m     11\u001b[0m \u001b[0msns\u001b[0m\u001b[0;34m.\u001b[0m\u001b[0mlineplot\u001b[0m\u001b[0;34m(\u001b[0m\u001b[0mrcs\u001b[0m\u001b[0;34m,\u001b[0m \u001b[0my_31\u001b[0m\u001b[0;34m)\u001b[0m\u001b[0;34m\u001b[0m\u001b[0;34m\u001b[0m\u001b[0m\n",
      "\u001b[0;31mTypeError\u001b[0m: lineplot() got multiple values for argument 'x'"
     ]
    }
   ],
   "source": [
    "from matplotlib import pyplot as plt\n",
    "import seaborn as sns\n",
    "\n",
    "y_0 =   [1.0,1.0,1.0,0.925,0.875, 0.6, 0.425, 0.25]\n",
    "y_1 =   [1.0,1.0,0.775,0.325,0.175,0.025,0.025,0.0]\n",
    "y_31 =  [0.775, 1.0, 0.775, 0.175, 0.0, 0.0, 0.0, 0.0]\n",
    "y_107 = [0.475, 0.0, 0.0,   0.0,   0.0, 0.0, 0.0, 0.0]\n",
    "y_9   = [1.0,   1.0, 1.0, 0.875, 0.625, 0.6, 0.325, 0.225] \n",
    "sns.lineplot(rcs, y_0, x=\"Rel. chain strength (RCS)\", y=\"Success rate\" )\n",
    "sns.lineplot(rcs, y_1)\n",
    "sns.lineplot(rcs, y_31)\n",
    "sns.lineplot(rcs, y_9)"
   ]
  },
  {
   "cell_type": "code",
   "execution_count": null,
   "metadata": {},
   "outputs": [],
   "source": [
    "yvals[1.5][2]/thrust[0]"
   ]
  },
  {
   "cell_type": "code",
   "execution_count": null,
   "metadata": {},
   "outputs": [],
   "source": [
    "y_0"
   ]
  },
  {
   "cell_type": "code",
   "execution_count": null,
   "metadata": {},
   "outputs": [],
   "source": []
  }
 ]
}
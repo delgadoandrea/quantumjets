{
 "metadata": {
  "language_info": {
   "codemirror_mode": {
    "name": "ipython",
    "version": 3
   },
   "file_extension": ".py",
   "mimetype": "text/x-python",
   "name": "python",
   "nbconvert_exporter": "python",
   "pygments_lexer": "ipython3",
   "version": "3.8.5-final"
  },
  "orig_nbformat": 2,
  "kernelspec": {
   "name": "python3",
   "display_name": "Python 3"
  }
 },
 "nbformat": 4,
 "nbformat_minor": 2,
 "cells": [
  {
   "cell_type": "code",
   "execution_count": 2,
   "metadata": {},
   "outputs": [],
   "source": [
    "import numpy as np\n",
    "import sys\n",
    "import dimod\n",
    "import matplotlib.pyplot as plt\n",
    "import os\n",
    "import re\n",
    "\n",
    "from dwave.system import EmbeddingComposite, DWaveSampler\n",
    "#from pythia_generator import generator\n",
    "from qubo_generator import make_qubo\n",
    "from embedding_generator import generate_embedding"
   ]
  },
  {
   "cell_type": "code",
   "execution_count": 2,
   "metadata": {},
   "outputs": [],
   "source": [
    "num_reads = 1000"
   ]
  },
  {
   "cell_type": "code",
   "execution_count": 1,
   "metadata": {},
   "outputs": [],
   "source": [
    "# Events can be generated either through Pythia's python wrapper numpythia or by importing events generated with Pythia8:\n",
    "\n",
    "particles = generator() #Generate particles with numpythia"
   ]
  },
  {
   "cell_type": "code",
   "execution_count": 17,
   "metadata": {},
   "outputs": [],
   "source": [
    "# Use particles in event to generate qubo\n",
    "qubo, offset = make_qubo(particles, np.pi/4.)\n",
    "bqm = dimod.BinaryQuadraticModel.from_qubo(qubo)"
   ]
  },
  {
   "cell_type": "code",
   "execution_count": 18,
   "metadata": {},
   "outputs": [],
   "source": [
    "# Submit qubo to D-Wave\n",
    "\n",
    "sampler = EmbeddingComposite(DWaveSampler(solver='Advantage_system1.1'))\n",
    "#response = sampler.sample(bqm, num_reads=num_reads)\n",
    "response = sampler.sample_qubo(qubo, num_reads=1000,return_embedding=True)"
   ]
  },
  {
   "cell_type": "code",
   "execution_count": 19,
   "metadata": {
    "tags": []
   },
   "outputs": [],
   "source": [
    "# Store energy and solutions of first run\n",
    "qpu_energies = []\n",
    "qpu_solutions = []\n",
    "\n",
    "for datum in response.data(['sample', 'energy', 'chain_break_fraction']):\n",
    "    qpu_energies.append(datum.energy)\n",
    "    qpu_solutions.append(datum.sample)\n",
    "    #print(datum.sample)"
   ]
  },
  {
   "cell_type": "code",
   "execution_count": 20,
   "metadata": {},
   "outputs": [],
   "source": [
    "with open('out.particles', 'w') as f:\n",
    "    for p in particles:\n",
    "        f.write(\"0 0 0 0\\n\")\n",
    "        f.write(\"%s %s %s %s\\n\\n\\n\" %( p['px'], p['py'], p['pz'], p['E']))\n",
    "        \n",
    "with open('out.particlesqujet', 'w') as f:\n",
    "    for i in range(len(particles)):\n",
    "        key = 's[%s]' %i\n",
    "        if(qpu_solutions[0][key]==1):\n",
    "            f.write(\"0 0 0 0\\n\")\n",
    "            f.write(\"%s %s %s %s\\n\\n\\n\" %( particles[i]['px'], particles[i]['py'], particles[i]['pz'], particles[i]['E']))"
   ]
  },
  {
   "cell_type": "code",
   "execution_count": null,
   "metadata": {},
   "outputs": [],
   "source": [
    "# Loop over 100 lowest solutions to check which variables are always included in lowest enhergy solutions\n",
    "freq = [0]*len(particles)\n",
    "\n",
    "for i in range(0,1000):\n",
    "    for p in range(len(particles)):\n",
    "        key = 's[%s]' %p\n",
    "        if(qpu_solutions[i][key] == 1): freq[p] +=1"
   ]
  },
  {
   "cell_type": "code",
   "execution_count": null,
   "metadata": {},
   "outputs": [],
   "source": [
    "response_bqm = sampler.sample(bqm, num_reads=1000)"
   ]
  },
  {
   "cell_type": "code",
   "execution_count": null,
   "metadata": {},
   "outputs": [],
   "source": [
    "response_bqm"
   ]
  },
  {
   "cell_type": "code",
   "execution_count": null,
   "metadata": {},
   "outputs": [],
   "source": [
    "#Attempt to fix variables\n",
    "\n",
    "for i in range(len(particles)):\n",
    "    if(freq[i]/num_reads < 0.65): bqm"
   ]
  },
  {
   "cell_type": "code",
   "execution_count": null,
   "metadata": {},
   "outputs": [],
   "source": [
    "response_adj = sampler.sample_qubo(qubo, num_reads=10000,return_embedding=True, chain_strength = 3000)"
   ]
  },
  {
   "cell_type": "code",
   "execution_count": null,
   "metadata": {},
   "outputs": [],
   "source": [
    "qpu_energies_adj = []\n",
    "qpu_chb_fraction_adj = []\n",
    "\n",
    "for datum in response_adj.data(['sample', 'energy', 'chain_break_fraction']):\n",
    "    qpu_energies_adj.append(datum.energy)\n",
    "    qpu_chb_fraction_adj.append(datum.chain_break_fraction)"
   ]
  },
  {
   "cell_type": "code",
   "execution_count": null,
   "metadata": {},
   "outputs": [],
   "source": [
    "from dwave.system import VirtualGraphComposite\n",
    "\n",
    "qpu = DWaveSampler(solver='Advantage_system1.1')"
   ]
  },
  {
   "cell_type": "code",
   "execution_count": null,
   "metadata": {},
   "outputs": [],
   "source": [
    "qpu.properties['extended_j_range']"
   ]
  },
  {
   "cell_type": "code",
   "execution_count": null,
   "metadata": {},
   "outputs": [],
   "source": [
    "embedding = generate_embedding(len(particles))\n",
    "\n",
    "virt_sampler = VirtualGraphComposite(qpu, embedding, chain_strength=1) #doctest: +SKIP"
   ]
  },
  {
   "cell_type": "code",
   "execution_count": null,
   "metadata": {},
   "outputs": [],
   "source": []
  }
 ]
}
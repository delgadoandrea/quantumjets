{
 "metadata": {
  "language_info": {
   "codemirror_mode": {
    "name": "ipython",
    "version": 3
   },
   "file_extension": ".py",
   "mimetype": "text/x-python",
   "name": "python",
   "nbconvert_exporter": "python",
   "pygments_lexer": "ipython3",
   "version": "3.8.5-final"
  },
  "orig_nbformat": 2,
  "kernelspec": {
   "name": "python3",
   "display_name": "Python 3"
  }
 },
 "nbformat": 4,
 "nbformat_minor": 2,
 "cells": [
  {
   "cell_type": "code",
   "execution_count": null,
   "metadata": {},
   "outputs": [],
   "source": [
    "# Notebook created to test SPhericity class implemented in numpythia"
   ]
  },
  {
   "cell_type": "code",
   "execution_count": 1,
   "metadata": {},
   "outputs": [],
   "source": [
    "from numpythia import Pythia"
   ]
  },
  {
   "cell_type": "code",
   "execution_count": 2,
   "metadata": {},
   "outputs": [],
   "source": [
    "params = {\"Beams:idA\" : \"11\", \"Beams:idB\" : \"-11\",\"Beams:eCM\": 91.1876, \"WeakSingleBoson:ffbar2gmZ\" : \"on\", \"23:onMode\": \"off\", \"23:onIfAny\": \"1 2 3 4 5\", \"PDF:lepton\": \"off\"}\n",
    "pythia = Pythia(params =params, random_state=1)"
   ]
  },
  {
   "cell_type": "code",
   "execution_count": 4,
   "metadata": {},
   "outputs": [
    {
     "output_type": "error",
     "ename": "ImportError",
     "evalue": "cannot import name 'Thrust' from 'numpythia' (/usr/local/lib/python3.8/dist-packages/numpythia-1.2.0-py3.8-linux-x86_64.egg/numpythia/__init__.py)",
     "traceback": [
      "\u001b[0;31m---------------------------------------------------------------------------\u001b[0m",
      "\u001b[0;31mImportError\u001b[0m                               Traceback (most recent call last)",
      "\u001b[0;32m<ipython-input-4-5d625cd7a1db>\u001b[0m in \u001b[0;36m<module>\u001b[0;34m\u001b[0m\n\u001b[0;32m----> 1\u001b[0;31m \u001b[0;32mfrom\u001b[0m \u001b[0mnumpythia\u001b[0m \u001b[0;32mimport\u001b[0m \u001b[0mThrust\u001b[0m\u001b[0;34m\u001b[0m\u001b[0;34m\u001b[0m\u001b[0m\n\u001b[0m",
      "\u001b[0;31mImportError\u001b[0m: cannot import name 'Thrust' from 'numpythia' (/usr/local/lib/python3.8/dist-packages/numpythia-1.2.0-py3.8-linux-x86_64.egg/numpythia/__init__.py)"
     ]
    }
   ],
   "source": [
    "from numpythia import Thrust"
   ]
  },
  {
   "cell_type": "code",
   "execution_count": null,
   "metadata": {},
   "outputs": [],
   "source": []
  }
 ]
}
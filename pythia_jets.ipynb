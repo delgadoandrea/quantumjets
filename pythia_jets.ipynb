{
 "metadata": {
  "language_info": {
   "codemirror_mode": {
    "name": "ipython",
    "version": 3
   },
   "file_extension": ".py",
   "mimetype": "text/x-python",
   "name": "python",
   "nbconvert_exporter": "python",
   "pygments_lexer": "ipython3",
   "version": "3.8.2-final"
  },
  "orig_nbformat": 2,
  "kernelspec": {
   "name": "python38264bit4e63f565713f40aba97dff639ba82afc",
   "display_name": "Python 3.8.2 64-bit"
  }
 },
 "nbformat": 4,
 "nbformat_minor": 2,
 "cells": [
  {
   "cell_type": "code",
   "execution_count": 1,
   "metadata": {},
   "outputs": [],
   "source": [
    "from numpythia import Pythia, hepmc_write, hepmc_read\n",
    "from numpythia import STATUS, HAS_END_VERTEX, ABS_PDG_ID\n",
    "\n",
    "from pyjet import cluster\n",
    "from pyjet.testdata import get_event"
   ]
  },
  {
   "cell_type": "code",
   "execution_count": 2,
   "metadata": {},
   "outputs": [],
   "source": [
    "params = {\"Beams:eCM\": 13000, \"WeakSingleBoson:ffbar2gmZ\" : \"on\", \"23:onMode\": \"off\", \"23:onIfAny\": \"13\", \"WeakZ0:gmZmode\": 2}\n",
    "pythia = Pythia(params =params)\n",
    "\n",
    "selection = ((STATUS == 1) & ~HAS_END_VERTEX)\n",
    "\n",
    "for event in pythia(events=1):\n",
    "    array = event.all(selection)\n",
    "    muplus = array[array[\"pdgid\"] == 13]"
   ]
  },
  {
   "cell_type": "code",
   "execution_count": 3,
   "metadata": {},
   "outputs": [],
   "source": [
    "vectors = get_event()\n",
    "sequence = cluster(vectors, R=1.0, p =-1)\n",
    "jets = sequence.inclusive_jets() # list of PseudoJets"
   ]
  },
  {
   "cell_type": "code",
   "execution_count": null,
   "metadata": {},
   "outputs": [],
   "source": []
  }
 ]
}
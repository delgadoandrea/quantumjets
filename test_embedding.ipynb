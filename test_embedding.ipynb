{
 "metadata": {
  "language_info": {
   "codemirror_mode": {
    "name": "ipython",
    "version": 3
   },
   "file_extension": ".py",
   "mimetype": "text/x-python",
   "name": "python",
   "nbconvert_exporter": "python",
   "pygments_lexer": "ipython3",
   "version": "3.8.5-final"
  },
  "orig_nbformat": 2,
  "kernelspec": {
   "name": "python3",
   "display_name": "Python 3"
  }
 },
 "nbformat": 4,
 "nbformat_minor": 2,
 "cells": [
  {
   "cell_type": "code",
   "execution_count": 55,
   "metadata": {},
   "outputs": [],
   "source": [
    "# Taken from main06.cc Pythia example. A study of event properties of LEP1 events\n",
    "\n",
    "from numpythia import Pythia, hepmc_write, hepmc_read\n",
    "from numpythia import STATUS, HAS_END_VERTEX, ABS_PDG_ID\n",
    "\n",
    "from pyjet import cluster, DTYPE_PTEPM, DTYPE_EP\n",
    "from pyjet.testdata import get_event\n",
    "\n",
    "import numpy as np\n",
    "import sys\n",
    "\n",
    "from pyjet import cluster\n",
    "from pyjet import ClusterSequenceArea, JetDefinition, ClusterSequence\n",
    "\n",
    "from dwave.system.samplers import DWaveSampler\n",
    "from dwave.system.composites import EmbeddingComposite"
   ]
  },
  {
   "cell_type": "code",
   "execution_count": null,
   "metadata": {},
   "outputs": [],
   "source": [
    "# Pythia generator settings. Process selection e+e- collision.\n",
    "# WeakSingleBoson:ffbar2gmZ : Produce Z bosons and interference with photon\n",
    "# Consider only Z (PDGID=23) decays to light quarks\n",
    "\n",
    "params = {\"Beams:idA\" : \"11\", \"Beams:idB\" : \"-11\",\"Beams:eCM\": 91.1876, \"WeakSingleBoson:ffbar2gmZ\" : \"on\", \"23:onMode\": \"off\", \"23:onIfAny\": \"1 2 3 4 5\", \"PDF:lepton\": \"off\"}\n",
    "pythia = Pythia(params =params, random_state=1)\n",
    "\n",
    "# Consider only final-state particles\n",
    "selection = ((STATUS == 1) & ~HAS_END_VERTEX)"
   ]
  },
  {
   "cell_type": "code",
   "execution_count": null,
   "metadata": {},
   "outputs": [],
   "source": [
    "# Array of pseudo-jets or particles to cluster\n",
    "particles = []\n",
    "array = []\n",
    "\n",
    "# Begin event loop. Generate events\n",
    "for event in pythia(events=1):\n",
    "    array = event.all(selection)"
   ]
  },
  {
   "cell_type": "code",
   "execution_count": null,
   "metadata": {},
   "outputs": [],
   "source": [
    "#For testing: filter out particles by energy\n",
    "particles = array#[array[\"E\"] > 2.0]"
   ]
  },
  {
   "cell_type": "code",
   "execution_count": null,
   "metadata": {},
   "outputs": [],
   "source": [
    "# Create qubo\n",
    "from pyqubo import Spin, Array\n",
    "\n",
    "# Create an array os spin variables\n",
    "n_part = len(particles) \n",
    "s = Array.create('s', shape=n_part, vartype='BINARY')\n",
    "\n",
    "# Create an array of zeroes for qubo matrix coefficients\n",
    "coeff = [[0] * n_part for _ in range(n_part)] \n",
    "theta = np.pi/4.\n",
    "\n",
    "for i in range(0,n_part):\n",
    "    for j in range(0,n_part):\n",
    "        coeff[i][j] = (particles[i]['px']*particles[j]['px'] + particles[i]['py']*particles[j]['py'] + particles[i]['pz']*particles[j]['pz'] - particles[i]['E']*particles[j]['E'] * np.cos(theta))/(1 - np.cos(theta))\n",
    "\n",
    "# Construct Hamiltonian\n",
    "H = sum([ -1.0*coeff[i][j]*s[i]*s[j] for i in range(0,n_part) for j in range(0,n_part)])\n",
    "\n",
    "# Compile model using pyqubo\n",
    "\n",
    "model = H.compile()\n",
    "qubo, offset = model.to_qubo()"
   ]
  },
  {
   "cell_type": "code",
   "execution_count": null,
   "metadata": {},
   "outputs": [],
   "source": [
    "qubo"
   ]
  },
  {
   "cell_type": "code",
   "execution_count": null,
   "metadata": {},
   "outputs": [],
   "source": [
    "from dwave.system import EmbeddingComposite, DWaveSampler\n",
    "import dimod"
   ]
  },
  {
   "cell_type": "code",
   "execution_count": null,
   "metadata": {},
   "outputs": [],
   "source": [
    "sampler = EmbeddingComposite(DWaveSampler(solver='Advantage_system1.1'))\n",
    "sampleset = sampler.sample_qubo(qubo, return_embedding=True, num_reads=10, chain_strength=1.5)"
   ]
  },
  {
   "cell_type": "code",
   "execution_count": null,
   "metadata": {},
   "outputs": [],
   "source": [
    "sampleset.lowest()"
   ]
  },
  {
   "cell_type": "code",
   "execution_count": null,
   "metadata": {},
   "outputs": [],
   "source": [
    "from chimera_embedding import processor\n",
    "from minorminer import find_embedding\n",
    "\n",
    "qpusampler = DWaveSampler(solver='Advantage_system1.1')\n",
    "edges = qpusampler.structure.edgelist"
   ]
  },
  {
   "cell_type": "code",
   "execution_count": null,
   "metadata": {},
   "outputs": [],
   "source": [
    "def make_complete_graph(size):\n",
    "    jmatr = {}\n",
    "    for i in range(size):\n",
    "        for j in range(i+1, size):\n",
    "            jmatr[(i,j)] = 1\n",
    "    return jmatr"
   ]
  },
  {
   "cell_type": "code",
   "execution_count": null,
   "metadata": {},
   "outputs": [],
   "source": [
    "def count_physical_qubits(embeding):\n",
    "    nq = 0\n",
    "    for sub_embed in embeding:\n",
    "        nq += len(sub_embed)\n",
    "    return nq"
   ]
  },
  {
   "cell_type": "code",
   "execution_count": null,
   "metadata": {},
   "outputs": [],
   "source": [
    "gen_graph = make_complete_graph(len(particles))\n",
    "embeddings = find_embedding(gen_graph, edges)"
   ]
  },
  {
   "cell_type": "code",
   "execution_count": null,
   "metadata": {},
   "outputs": [],
   "source": [
    "embeddings"
   ]
  },
  {
   "cell_type": "code",
   "execution_count": null,
   "metadata": {},
   "outputs": [],
   "source": [
    "import dwave.inspector\n",
    "\n",
    "dwave.inspector.show(sampleset)"
   ]
  },
  {
   "cell_type": "code",
   "execution_count": null,
   "metadata": {},
   "outputs": [],
   "source": []
  }
 ]
}
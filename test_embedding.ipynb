{
 "metadata": {
  "language_info": {
   "codemirror_mode": {
    "name": "ipython",
    "version": 3
   },
   "file_extension": ".py",
   "mimetype": "text/x-python",
   "name": "python",
   "nbconvert_exporter": "python",
   "pygments_lexer": "ipython3",
   "version": "3.8.5-final"
  },
  "orig_nbformat": 2,
  "kernelspec": {
   "name": "python3",
   "display_name": "Python 3"
  }
 },
 "nbformat": 4,
 "nbformat_minor": 2,
 "cells": [
  {
   "cell_type": "code",
   "execution_count": 6,
   "metadata": {},
   "outputs": [],
   "source": [
    "# Taken from main06.cc Pythia example. A study of event properties of LEP1 events\n",
    "\n",
    "from numpythia import Pythia, hepmc_write, hepmc_read\n",
    "from numpythia import STATUS, HAS_END_VERTEX, ABS_PDG_ID\n",
    "\n",
    "from pyjet import cluster, DTYPE_PTEPM, DTYPE_EP\n",
    "from pyjet.testdata import get_event\n",
    "from pyjet import ClusterSequenceArea, JetDefinition, ClusterSequence\n",
    "\n",
    "import numpy as np\n",
    "import sys\n",
    "\n",
    "from dwave.system import EmbeddingComposite, DWaveSampler\n",
    "import dimod"
   ]
  },
  {
   "cell_type": "code",
   "execution_count": 7,
   "metadata": {},
   "outputs": [],
   "source": [
    "# Pythia generator settings. Process selection e+e- collision.\n",
    "# WeakSingleBoson:ffbar2gmZ : Produce Z bosons and interference with photon\n",
    "# Consider only Z (PDGID=23) decays to light quarks\n",
    "\n",
    "params = {\"Beams:idA\" : \"11\", \"Beams:idB\" : \"-11\",\"Beams:eCM\": 91.1876, \"WeakSingleBoson:ffbar2gmZ\" : \"on\", \"23:onMode\": \"off\", \"23:onIfAny\": \"1 2 3 4 5\", \"PDF:lepton\": \"off\"}\n",
    "pythia = Pythia(params =params, random_state=1)\n",
    "\n",
    "# Consider only final-state particles\n",
    "selection = ((STATUS == 1) & ~HAS_END_VERTEX)"
   ]
  },
  {
   "cell_type": "code",
   "execution_count": 8,
   "metadata": {},
   "outputs": [],
   "source": [
    "# Array of pseudo-jets or particles to cluster\n",
    "particles = []\n",
    "array = []\n",
    "\n",
    "# Begin event loop. Generate events\n",
    "for event in pythia(events=1):\n",
    "    array = event.all(selection)"
   ]
  },
  {
   "cell_type": "code",
   "execution_count": 9,
   "metadata": {},
   "outputs": [],
   "source": [
    "#For testing: filter out particles by energy\n",
    "particles = array#[array[\"E\"] > 2.0]"
   ]
  },
  {
   "cell_type": "code",
   "execution_count": 10,
   "metadata": {},
   "outputs": [],
   "source": [
    "# Create qubo\n",
    "from pyqubo import Spin, Array\n",
    "\n",
    "# Create an array os spin variables\n",
    "n_part = len(particles) \n",
    "s = Array.create('s', shape=n_part, vartype='BINARY')\n",
    "\n",
    "# Create an array of zeroes for qubo matrix coefficients\n",
    "coeff = [[0] * n_part for _ in range(n_part)] \n",
    "theta = np.pi/4.\n",
    "\n",
    "for i in range(0,n_part):\n",
    "    for j in range(0,n_part):\n",
    "        coeff[i][j] = (particles[i]['px']*particles[j]['px'] + particles[i]['py']*particles[j]['py'] + particles[i]['pz']*particles[j]['pz'] - particles[i]['E']*particles[j]['E'] * np.cos(theta))/(1 - np.cos(theta))\n",
    "\n",
    "# Construct Hamiltonian\n",
    "H = sum([ -1.0*coeff[i][j]*s[i]*s[j] for i in range(0,n_part) for j in range(0,n_part)])\n",
    "\n",
    "# Compile model using pyqubo\n",
    "\n",
    "model = H.compile()\n",
    "qubo, offset = model.to_qubo()"
   ]
  },
  {
   "cell_type": "code",
   "execution_count": 11,
   "metadata": {},
   "outputs": [],
   "source": [
    "# Use default embedding on Advantage System\n",
    "sampler = EmbeddingComposite(DWaveSampler(solver='Advantage_system1.1'))\n",
    "sampleset = sampler.sample_qubo(qubo, return_embedding=True, num_reads=10, chain_strength=1.5)"
   ]
  },
  {
   "cell_type": "code",
   "execution_count": 12,
   "metadata": {},
   "outputs": [],
   "source": [
    "# Convert qubo to bqm to visualize it in D-Wave's inspector\n",
    "bqm = dimod.BinaryQuadraticModel.from_qubo(qubo, offset = offset)\n",
    "\n",
    "result = sampler.sample(bqm, num_reads=10)"
   ]
  },
  {
   "cell_type": "code",
   "execution_count": 13,
   "metadata": {},
   "outputs": [
    {
     "output_type": "error",
     "ename": "ValueError",
     "evalue": "invalid combination of arguments provided: if data capture not enabled, problem/response/solver/etc have to be explicitly specified",
     "traceback": [
      "\u001b[0;31m---------------------------------------------------------------------------\u001b[0m",
      "\u001b[0;31mValueError\u001b[0m                                Traceback (most recent call last)",
      "\u001b[0;32m<ipython-input-13-7fa5d1874fb9>\u001b[0m in \u001b[0;36m<module>\u001b[0;34m\u001b[0m\n\u001b[1;32m      1\u001b[0m \u001b[0;32mimport\u001b[0m \u001b[0mdwave\u001b[0m\u001b[0;34m.\u001b[0m\u001b[0minspector\u001b[0m\u001b[0;34m\u001b[0m\u001b[0;34m\u001b[0m\u001b[0m\n\u001b[1;32m      2\u001b[0m \u001b[0;34m\u001b[0m\u001b[0m\n\u001b[0;32m----> 3\u001b[0;31m \u001b[0mdwave\u001b[0m\u001b[0;34m.\u001b[0m\u001b[0minspector\u001b[0m\u001b[0;34m.\u001b[0m\u001b[0mshow\u001b[0m\u001b[0;34m(\u001b[0m\u001b[0mresult\u001b[0m\u001b[0;34m)\u001b[0m\u001b[0;34m\u001b[0m\u001b[0;34m\u001b[0m\u001b[0m\n\u001b[0m",
      "\u001b[0;32m~/.local/lib/python3.8/site-packages/dwave/inspector/__init__.py\u001b[0m in \u001b[0;36mshow\u001b[0;34m(*args, **kwargs)\u001b[0m\n\u001b[1;32m    176\u001b[0m     \"\"\"\n\u001b[1;32m    177\u001b[0m     \u001b[0mblock\u001b[0m \u001b[0;34m=\u001b[0m \u001b[0mkwargs\u001b[0m\u001b[0;34m.\u001b[0m\u001b[0mpop\u001b[0m\u001b[0;34m(\u001b[0m\u001b[0;34m'block'\u001b[0m\u001b[0;34m,\u001b[0m \u001b[0mBlock\u001b[0m\u001b[0;34m.\u001b[0m\u001b[0mONCE\u001b[0m\u001b[0;34m)\u001b[0m\u001b[0;34m\u001b[0m\u001b[0;34m\u001b[0m\u001b[0m\n\u001b[0;32m--> 178\u001b[0;31m     \u001b[0mdata\u001b[0m \u001b[0;34m=\u001b[0m \u001b[0mfrom_objects\u001b[0m\u001b[0;34m(\u001b[0m\u001b[0;34m*\u001b[0m\u001b[0margs\u001b[0m\u001b[0;34m,\u001b[0m \u001b[0;34m**\u001b[0m\u001b[0mkwargs\u001b[0m\u001b[0;34m)\u001b[0m\u001b[0;34m\u001b[0m\u001b[0;34m\u001b[0m\u001b[0m\n\u001b[0m\u001b[1;32m    179\u001b[0m     \u001b[0mid_\u001b[0m \u001b[0;34m=\u001b[0m \u001b[0mpush_inspector_data\u001b[0m\u001b[0;34m(\u001b[0m\u001b[0mdata\u001b[0m\u001b[0;34m)\u001b[0m\u001b[0;34m\u001b[0m\u001b[0;34m\u001b[0m\u001b[0m\n\u001b[1;32m    180\u001b[0m     \u001b[0;32mreturn\u001b[0m \u001b[0mopen_problem\u001b[0m\u001b[0;34m(\u001b[0m\u001b[0mid_\u001b[0m\u001b[0;34m,\u001b[0m \u001b[0mblock\u001b[0m\u001b[0;34m=\u001b[0m\u001b[0mblock\u001b[0m\u001b[0;34m)\u001b[0m\u001b[0;34m\u001b[0m\u001b[0;34m\u001b[0m\u001b[0m\n",
      "\u001b[0;32m~/.local/lib/python3.8/site-packages/dwave/inspector/adapters.py\u001b[0m in \u001b[0;36mfrom_objects\u001b[0;34m(*args, **kwargs)\u001b[0m\n\u001b[1;32m    827\u001b[0m             embedding_context=embedding_context, warnings=warnings)\n\u001b[1;32m    828\u001b[0m \u001b[0;34m\u001b[0m\u001b[0m\n\u001b[0;32m--> 829\u001b[0;31m     raise ValueError(\n\u001b[0m\u001b[1;32m    830\u001b[0m         \u001b[0;34m\"invalid combination of arguments provided: if data capture not \"\u001b[0m\u001b[0;34m\u001b[0m\u001b[0;34m\u001b[0m\u001b[0m\n\u001b[1;32m    831\u001b[0m         \"enabled, problem/response/solver/etc have to be explicitly specified\")\n",
      "\u001b[0;31mValueError\u001b[0m: invalid combination of arguments provided: if data capture not enabled, problem/response/solver/etc have to be explicitly specified"
     ]
    }
   ],
   "source": [
    "import dwave.inspector\n",
    "\n",
    "dwave.inspector.show(result)"
   ]
  },
  {
   "cell_type": "code",
   "execution_count": null,
   "metadata": {},
   "outputs": [],
   "source": [
    "from chimera_embedding import processor\n",
    "from minorminer import find_embedding\n",
    "\n",
    "qpusampler = DWaveSampler(solver='Advantage_system1.1')\n",
    "edges = qpusampler.structure.edgelist"
   ]
  },
  {
   "cell_type": "code",
   "execution_count": null,
   "metadata": {},
   "outputs": [],
   "source": [
    "def make_complete_graph(size):\n",
    "    jmatr = {}\n",
    "    for i in range(size):\n",
    "        for j in range(i+1, size):\n",
    "            jmatr[(i,j)] = 1\n",
    "    return jmatr"
   ]
  },
  {
   "cell_type": "code",
   "execution_count": null,
   "metadata": {},
   "outputs": [],
   "source": [
    "def count_physical_qubits(embeding):\n",
    "    nq = 0\n",
    "    for sub_embed in embeding:\n",
    "        nq += len(sub_embed)\n",
    "    return nq"
   ]
  },
  {
   "cell_type": "code",
   "execution_count": null,
   "metadata": {},
   "outputs": [],
   "source": [
    "gen_graph = make_complete_graph(len(particles))\n",
    "embeddings = find_embedding(gen_graph, edges)"
   ]
  },
  {
   "cell_type": "code",
   "execution_count": null,
   "metadata": {},
   "outputs": [],
   "source": [
    "embeddings"
   ]
  },
  {
   "cell_type": "code",
   "execution_count": null,
   "metadata": {},
   "outputs": [],
   "source": [
    "import dwave.inspector\n",
    "\n",
    "dwave.inspector.show(sampleset)"
   ]
  },
  {
   "cell_type": "code",
   "execution_count": null,
   "metadata": {},
   "outputs": [],
   "source": []
  }
 ]
}
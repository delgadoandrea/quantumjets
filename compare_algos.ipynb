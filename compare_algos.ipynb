{
 "metadata": {
  "language_info": {
   "codemirror_mode": {
    "name": "ipython",
    "version": 3
   },
   "file_extension": ".py",
   "mimetype": "text/x-python",
   "name": "python",
   "nbconvert_exporter": "python",
   "pygments_lexer": "ipython3",
   "version": "3.8.2-final"
  },
  "orig_nbformat": 2,
  "kernelspec": {
   "name": "Python 3.8.2 64-bit",
   "display_name": "Python 3.8.2 64-bit",
   "metadata": {
    "interpreter": {
     "hash": "31f2aee4e71d21fbe5cf8b01ff0e069b9275f58929596ceb00d14d90e3e16cd6"
    }
   }
  }
 },
 "nbformat": 4,
 "nbformat_minor": 2,
 "cells": [
  {
   "cell_type": "code",
   "execution_count": 12,
   "metadata": {},
   "outputs": [],
   "source": [
    "# Taken from main06.cc Pythia example. A study of event properties of LEP1 events\n",
    "\n",
    "from numpythia import Pythia, hepmc_write, hepmc_read\n",
    "from numpythia import STATUS, HAS_END_VERTEX, ABS_PDG_ID\n",
    "\n",
    "from pyjet import cluster, DTYPE_PTEPM, DTYPE_EP\n",
    "from pyjet.testdata import get_event\n",
    "\n",
    "import numpy as np\n",
    "import sys\n",
    "\n",
    "from pyjet import cluster\n",
    "from pyjet import ClusterSequenceArea, JetDefinition, ClusterSequence\n",
    "\n",
    "from dwave.system.samplers import DWaveSampler\n",
    "from dwave.system.composites import EmbeddingComposite"
   ]
  },
  {
   "cell_type": "code",
   "execution_count": 2,
   "metadata": {},
   "outputs": [],
   "source": [
    "# Pythia generator settings. Process selection e+e- collision.\n",
    "# WeakSingleBoson:ffbar2gmZ : Produce Z bosons and interference with photon\n",
    "# Consider only Z (PDGID=23) decays to light quarks\n",
    "\n",
    "params = {\"Beams:idA\" : \"11\", \"Beams:idB\" : \"-11\",\"Beams:eCM\": 91.1876, \"WeakSingleBoson:ffbar2gmZ\" : \"on\", \"23:onMode\": \"off\", \"23:onIfAny\": \"1 2 3 4 5\", \"PDF:lepton\": \"off\"}\n",
    "pythia = Pythia(params =params, random_state=1)\n",
    "\n",
    "# Consider only final-state particles\n",
    "selection = ((STATUS == 1) & ~HAS_END_VERTEX)"
   ]
  },
  {
   "cell_type": "code",
   "execution_count": 3,
   "metadata": {},
   "outputs": [],
   "source": [
    "# Array of pseudo-jets or particles to cluster\n",
    "particles = []\n",
    "\n",
    "# Begin event loop. Generate events\n",
    "for event in pythia(events=1):\n",
    "    particles = event.all(selection)"
   ]
  },
  {
   "cell_type": "code",
   "execution_count": 4,
   "metadata": {},
   "outputs": [],
   "source": [
    "# Print out each momentum (starting from 0 to enable gnuplot to easily draw a line)\n",
    "with open('out.particles', 'w') as f:\n",
    "    for p in particles:\n",
    "        f.write(\"0 0 0 0\\n\")\n",
    "        f.write(\"%s %s %s %s\\n\\n\\n\" %( p['px'], p['py'], p['pz'], p['E']))\n"
   ]
  },
  {
   "cell_type": "code",
   "execution_count": 5,
   "metadata": {},
   "outputs": [],
   "source": [
    "# Cluster particles into jets\n",
    "# First generate a whole \"clustering sequence\" with the e+e- kt algorithm\n",
    "\n",
    "jetdef = JetDefinition('ee_kt')\n",
    "sequence = ClusterSequence(particles, jetdef, ep=True)"
   ]
  },
  {
   "cell_type": "code",
   "execution_count": 8,
   "metadata": {},
   "outputs": [],
   "source": [
    "# Then select the jets that come out of clustering \n",
    "jets = sequence.exclusive_jets(3)"
   ]
  },
  {
   "cell_type": "code",
   "execution_count": 62,
   "metadata": {},
   "outputs": [],
   "source": [
    "with open('out.jetconst', 'w') as f:\n",
    "    for c in range(len(jets[0].constituents_array(ep=True))):\n",
    "        f.write(\"0 0 0 0\\n\")\n",
    "        f.write(\"%s %s %s %s\\n\\n\\n\" %(jets[0].constituents_array(ep=True)[c]['px'], jets[0].constituents_array(ep=True)[c]['py'], jets[0].constituents_array(ep=True)[c]['pz'], jets[0].constituents_array(ep=True)[c]['E']))"
   ]
  },
  {
   "cell_type": "code",
   "execution_count": 9,
   "metadata": {},
   "outputs": [],
   "source": [
    "# Print out the jets to a file\n",
    "with open('out.ktjets', 'w') as f:\n",
    "    for jet in jets:\n",
    "        f.write(\"0 0 0 0\\n\")\n",
    "        f.write(\"%s %s %s %s\\n\\n\\n\" %(jet.px, jet.py, jet.pz, jet.e))"
   ]
  },
  {
   "cell_type": "code",
   "execution_count": 11,
   "metadata": {},
   "outputs": [],
   "source": [
    "# Create qubo\n",
    "from pyqubo import Spin, Array\n",
    "\n",
    "# Create an array os spin variables\n",
    "n_part = len(particles) \n",
    "s = Array.create('s', shape=n_part, vartype='BINARY')\n",
    "\n",
    "# Create an array of zeroes for qubo matrix coefficients\n",
    "coeff = [[0] * n_part for _ in range(n_part)] \n",
    "\n",
    "for i in range(0,n_part):\n",
    "    for j in range(0,n_part):\n",
    "        coeff[i][j] = (particles[i]['px']*particles[j]['px'] + particles[i]['py']*particles[j]['py'] + particles[i]['pz']*particles[j]['pz'] - particles[i]['E']*particles[j]['E'] * np.cos(np.pi/4.))/(1 - np.cos(np.pi/4))\n",
    "\n",
    "# Construct Hamiltonian\n",
    "H = sum([ coeff[i][j]*s[i]*s[j] for i in range(len(particles)) for j in range(len(particles))])\n",
    "\n",
    "# Compile model using pyqubo\n",
    "\n",
    "model = H.compile()\n",
    "qubo, offset = model.to_qubo()"
   ]
  },
  {
   "cell_type": "code",
   "execution_count": 13,
   "metadata": {},
   "outputs": [],
   "source": [
    "# Submit qubo to D-Wave\n",
    "\n",
    "sampler = EmbeddingComposite(DWaveSampler(solver={'qpu':True}))\n",
    "response = sampler.sample_qubo(qubo)"
   ]
  },
  {
   "cell_type": "code",
   "execution_count": 31,
   "metadata": {},
   "outputs": [
    {
     "output_type": "stream",
     "name": "stdout",
     "text": [
      "{'s[0]': 1, 's[10]': 1, 's[11]': 1, 's[12]': 0, 's[13]': 1, 's[14]': 1, 's[15]': 1, 's[16]': 1, 's[17]': 1, 's[18]': 1, 's[19]': 1, 's[1]': 1, 's[20]': 1, 's[21]': 0, 's[22]': 1, 's[23]': 1, 's[24]': 1, 's[25]': 0, 's[26]': 0, 's[27]': 0, 's[28]': 1, 's[29]': 1, 's[2]': 1, 's[30]': 1, 's[31]': 1, 's[32]': 1, 's[33]': 1, 's[34]': 0, 's[3]': 1, 's[4]': 0, 's[5]': 1, 's[6]': 1, 's[7]': 1, 's[8]': 1, 's[9]': 0}\n"
     ]
    }
   ],
   "source": [
    "for sample in response:\n",
    "    print(sample)"
   ]
  },
  {
   "cell_type": "code",
   "execution_count": 32,
   "metadata": {},
   "outputs": [],
   "source": [
    "solution = {'s[0]': 1, 's[10]': 1, 's[11]': 1, 's[12]': 0, 's[13]': 1, 's[14]': 1, 's[15]': 1, 's[16]': 1, 's[17]': 1, 's[18]': 1, 's[19]': 1, 's[1]': 1, 's[20]': 1, 's[21]': 0, 's[22]': 1, 's[23]': 1, 's[24]': 1, 's[25]': 0, 's[26]': 0, 's[27]': 0, 's[28]': 1, 's[29]': 1, 's[2]': 1, 's[30]': 1, 's[31]': 1, 's[32]': 1, 's[33]': 1, 's[34]': 0, 's[3]': 1, 's[4]': 0, 's[5]': 1, 's[6]': 1, 's[7]': 1, 's[8]': 1, 's[9]': 0}"
   ]
  },
  {
   "cell_type": "code",
   "execution_count": 46,
   "metadata": {},
   "outputs": [],
   "source": [
    "with open('out.particlesqujet', 'w') as f:\n",
    "    for i in range(len(particles)):\n",
    "        key = 's[%s]' %i\n",
    "        if(solution[key]==1):\n",
    "            f.write(\"0 0 0 0\\n\")\n",
    "            f.write(\"%s %s %s %s\\n\\n\\n\" %( particles[i]['px'], particles[i]['py'], particles[i]['pz'], particles[i]['E']))"
   ]
  },
  {
   "cell_type": "code",
   "execution_count": 36,
   "metadata": {},
   "outputs": [
    {
     "output_type": "error",
     "ename": "AttributeError",
     "evalue": "'cpp_pyqubo.Model' object has no attribute 'decode_solution'",
     "traceback": [
      "\u001b[0;31m---------------------------------------------------------------------------\u001b[0m",
      "\u001b[0;31mAttributeError\u001b[0m                            Traceback (most recent call last)",
      "\u001b[0;32m<ipython-input-36-51f9463812ee>\u001b[0m in \u001b[0;36m<module>\u001b[0;34m\u001b[0m\n\u001b[1;32m      1\u001b[0m \u001b[0;32mimport\u001b[0m \u001b[0mpyqubo\u001b[0m\u001b[0;34m\u001b[0m\u001b[0;34m\u001b[0m\u001b[0m\n\u001b[0;32m----> 2\u001b[0;31m \u001b[0mdecoded_solution\u001b[0m\u001b[0;34m,\u001b[0m \u001b[0mbroken\u001b[0m\u001b[0;34m,\u001b[0m \u001b[0menergy\u001b[0m \u001b[0;34m=\u001b[0m \u001b[0mmodel\u001b[0m\u001b[0;34m.\u001b[0m\u001b[0mdecode_solution\u001b[0m\u001b[0;34m(\u001b[0m\u001b[0msolution\u001b[0m\u001b[0;34m,\u001b[0m \u001b[0mvartype\u001b[0m\u001b[0;34m=\u001b[0m\u001b[0;34m'BINARY'\u001b[0m\u001b[0;34m)\u001b[0m\u001b[0;34m\u001b[0m\u001b[0;34m\u001b[0m\u001b[0m\n\u001b[0m",
      "\u001b[0;31mAttributeError\u001b[0m: 'cpp_pyqubo.Model' object has no attribute 'decode_solution'"
     ]
    }
   ],
   "source": [
    "import pyqubo\n",
    "decoded_solution, broken, energy = model.decode_solution(solution, vartype='BINARY')"
   ]
  },
  {
   "cell_type": "code",
   "execution_count": null,
   "metadata": {},
   "outputs": [],
   "source": []
  }
 ]
}
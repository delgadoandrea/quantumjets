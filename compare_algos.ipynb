{
 "metadata": {
  "language_info": {
   "codemirror_mode": {
    "name": "ipython",
    "version": 3
   },
   "file_extension": ".py",
   "mimetype": "text/x-python",
   "name": "python",
   "nbconvert_exporter": "python",
   "pygments_lexer": "ipython3",
   "version": "3.8.5-final"
  },
  "orig_nbformat": 2,
  "kernelspec": {
   "name": "python38264bite8c1c5bb18bd4e8697bc11d0205dd314",
   "display_name": "Python 3.8.2 64-bit",
   "metadata": {
    "interpreter": {
     "hash": "aee8b7b246df8f9039afb4144a1f6fd8d2ca17a180786b69acc140d282b71a49"
    }
   }
  }
 },
 "nbformat": 4,
 "nbformat_minor": 2,
 "cells": [
  {
   "cell_type": "code",
   "execution_count": 52,
   "metadata": {},
   "outputs": [],
   "source": [
    "# Taken from main06.cc Pythia example. A study of event properties of LEP1 events\n",
    "\n",
    "from numpythia import Pythia, hepmc_write, hepmc_read\n",
    "from numpythia import STATUS, HAS_END_VERTEX, ABS_PDG_ID\n",
    "\n",
    "from pyjet import cluster, DTYPE_PTEPM, DTYPE_EP\n",
    "from pyjet.testdata import get_event\n",
    "\n",
    "import numpy as np\n",
    "import sys\n",
    "\n",
    "from pyjet import cluster\n",
    "from pyjet import ClusterSequenceArea, JetDefinition, ClusterSequence\n",
    "\n",
    "from dwave.system.samplers import DWaveSampler\n",
    "from dwave.system.composites import EmbeddingComposite"
   ]
  },
  {
   "cell_type": "code",
   "execution_count": 53,
   "metadata": {},
   "outputs": [],
   "source": [
    "# Pythia generator settings. Process selection e+e- collision.\n",
    "# WeakSingleBoson:ffbar2gmZ : Produce Z bosons and interference with photon\n",
    "# Consider only Z (PDGID=23) decays to light quarks\n",
    "\n",
    "params = {\"Beams:idA\" : \"11\", \"Beams:idB\" : \"-11\",\"Beams:eCM\": 91.1876, \"WeakSingleBoson:ffbar2gmZ\" : \"on\", \"23:onMode\": \"off\", \"23:onIfAny\": \"1 2 3 4 5\", \"PDF:lepton\": \"off\"}\n",
    "pythia = Pythia(params =params, random_state=1)\n",
    "\n",
    "# Consider only final-state particles\n",
    "selection = ((STATUS == 1) & ~HAS_END_VERTEX)"
   ]
  },
  {
   "cell_type": "code",
   "execution_count": 54,
   "metadata": {},
   "outputs": [],
   "source": [
    "# Array of pseudo-jets or particles to cluster\n",
    "particles = []\n",
    "array = []\n",
    "\n",
    "# Begin event loop. Generate events\n",
    "for event in pythia(events=1):\n",
    "    array = event.all(selection)"
   ]
  },
  {
   "cell_type": "code",
   "execution_count": 104,
   "metadata": {},
   "outputs": [],
   "source": [
    "particles = array[array[\"E\"] > 5.0]"
   ]
  },
  {
   "cell_type": "code",
   "execution_count": 105,
   "metadata": {
    "tags": []
   },
   "outputs": [
    {
     "output_type": "stream",
     "name": "stdout",
     "text": "5\n"
    }
   ],
   "source": [
    "print(len(particles))"
   ]
  },
  {
   "cell_type": "code",
   "execution_count": 106,
   "metadata": {},
   "outputs": [
    {
     "output_type": "execute_result",
     "data": {
      "text/plain": "35"
     },
     "metadata": {},
     "execution_count": 106
    }
   ],
   "source": [
    "len(array)"
   ]
  },
  {
   "cell_type": "code",
   "execution_count": 107,
   "metadata": {},
   "outputs": [],
   "source": [
    "# Print out each momentum (starting from 0 to enable gnuplot to easily draw a line)\n",
    "with open('out.particles', 'w') as f:\n",
    "    for p in particles:\n",
    "        f.write(\"0 0 0 0\\n\")\n",
    "        f.write(\"%s %s %s %s\\n\\n\\n\" %( p['px'], p['py'], p['pz'], p['E']))\n"
   ]
  },
  {
   "cell_type": "code",
   "execution_count": 108,
   "metadata": {},
   "outputs": [],
   "source": [
    "# Cluster particles into jets\n",
    "# First generate a whole \"clustering sequence\" with the e+e- kt algorithm\n",
    "\n",
    "jetdef = JetDefinition('ee_kt')\n",
    "sequence = ClusterSequence(particles, jetdef, ep=True)"
   ]
  },
  {
   "cell_type": "code",
   "execution_count": 109,
   "metadata": {},
   "outputs": [],
   "source": [
    "# Then select the jets that come out of clustering \n",
    "jets = sequence.exclusive_jets(3)"
   ]
  },
  {
   "cell_type": "code",
   "execution_count": 110,
   "metadata": {},
   "outputs": [],
   "source": [
    "with open('out.jetconst', 'w') as f:\n",
    "    for c in range(len(jets[0].constituents_array(ep=True))):\n",
    "        f.write(\"0 0 0 0\\n\")\n",
    "        f.write(\"%s %s %s %s\\n\\n\\n\" %(jets[0].constituents_array(ep=True)[c]['px'], jets[0].constituents_array(ep=True)[c]['py'], jets[0].constituents_array(ep=True)[c]['pz'], jets[0].constituents_array(ep=True)[c]['E']))"
   ]
  },
  {
   "cell_type": "code",
   "execution_count": 111,
   "metadata": {},
   "outputs": [],
   "source": [
    "# Print out the jets to a file\n",
    "with open('out.ktjets', 'w') as f:\n",
    "    for jet in jets:\n",
    "        f.write(\"0 0 0 0\\n\")\n",
    "        f.write(\"%s %s %s %s\\n\\n\\n\" %(jet.px, jet.py, jet.pz, jet.e))"
   ]
  },
  {
   "cell_type": "code",
   "execution_count": 112,
   "metadata": {},
   "outputs": [],
   "source": [
    "# Create qubo\n",
    "from pyqubo import Spin, Array\n",
    "\n",
    "# Create an array os spin variables\n",
    "n_part = len(particles) \n",
    "s = Array.create('s', shape=n_part, vartype='BINARY')\n",
    "\n",
    "# Create an array of zeroes for qubo matrix coefficients\n",
    "coeff = [[0] * n_part for _ in range(n_part)] \n",
    "theta = np.pi/4.\n",
    "\n",
    "for i in range(0,n_part):\n",
    "    for j in range(0,n_part):\n",
    "        coeff[i][j] = (particles[i]['px']*particles[j]['px'] + particles[i]['py']*particles[j]['py'] + particles[i]['pz']*particles[j]['pz'] - particles[i]['E']*particles[j]['E'] * np.cos(theta))/(1 - np.cos(theta))\n",
    "\n",
    "# Construct Hamiltonian\n",
    "H = sum([ -1.0*coeff[i][j]*s[i]*s[j] for i in range(0,n_part) for j in range(0,n_part)])\n",
    "\n",
    "# Compile model using pyqubo\n",
    "\n",
    "model = H.compile()\n",
    "qubo, offset = model.to_qubo()"
   ]
  },
  {
   "cell_type": "code",
   "execution_count": 124,
   "metadata": {},
   "outputs": [],
   "source": [
    "# Submit qubo to D-Wave\n",
    "\n",
    "sampler = EmbeddingComposite(DWaveSampler(solver={'qpu':True}))\n",
    "response = sampler.sample_qubo(qubo)"
   ]
  },
  {
   "cell_type": "code",
   "execution_count": 125,
   "metadata": {},
   "outputs": [
    {
     "output_type": "execute_result",
     "data": {
      "text/plain": "SampleSet(rec.array([([0, 0, 1, 1, 1], -550.67943722, 1, 0.)],\n          dtype=[('sample', 'i1', (5,)), ('energy', '<f8'), ('num_occurrences', '<i8'), ('chain_break_fraction', '<f8')]), ['s[0]', 's[1]', 's[2]', 's[3]', 's[4]'], {'timing': {'qpu_sampling_time': 239, 'qpu_anneal_time_per_sample': 20, 'qpu_readout_time_per_sample': 198, 'qpu_access_time': 10979, 'qpu_access_overhead_time': 2153, 'qpu_programming_time': 10740, 'qpu_delay_time_per_sample': 21, 'total_post_processing_time': 441, 'post_processing_overhead_time': 441, 'total_real_time': 10979, 'run_time_chip': 239, 'anneal_time_per_run': 20, 'readout_time_per_run': 198}, 'problem_id': '489f8356-511c-4ff7-9de5-01b6ab5b8f2b'}, 'BINARY')"
     },
     "metadata": {},
     "execution_count": 125
    }
   ],
   "source": [
    "response"
   ]
  },
  {
   "cell_type": "code",
   "execution_count": 122,
   "metadata": {
    "tags": []
   },
   "outputs": [
    {
     "output_type": "stream",
     "name": "stdout",
     "text": "{'s[0]': 0, 's[1]': 0, 's[2]': 1, 's[3]': 1, 's[4]': 1}\n"
    }
   ],
   "source": [
    "for sample in response:\n",
    "    print(sample)"
   ]
  },
  {
   "cell_type": "code",
   "execution_count": 126,
   "metadata": {},
   "outputs": [],
   "source": [
    "solution = {'s[0]': 0, 's[1]': 0, 's[2]': 1, 's[3]': 1, 's[4]': 1}"
   ]
  },
  {
   "cell_type": "code",
   "execution_count": 127,
   "metadata": {},
   "outputs": [],
   "source": [
    "with open('out.particlesqujet', 'w') as f:\n",
    "    for i in range(len(particles)):\n",
    "        key = 's[%s]' %i\n",
    "        if(solution[key]==1):\n",
    "            f.write(\"0 0 0 0\\n\")\n",
    "            f.write(\"%s %s %s %s\\n\\n\\n\" %( particles[i]['px'], particles[i]['py'], particles[i]['pz'], particles[i]['E']))"
   ]
  },
  {
   "cell_type": "code",
   "execution_count": null,
   "metadata": {},
   "outputs": [],
   "source": [
    "import pyqubo\n",
    "decoded_solution, broken, energy = model.decode_solution(solution, vartype='BINARY')"
   ]
  },
  {
   "cell_type": "code",
   "execution_count": 128,
   "metadata": {},
   "outputs": [],
   "source": [
    "import dimod \n",
    "solution_dimod = dimod.ExactSolver().sample_qubo(qubo)"
   ]
  },
  {
   "cell_type": "code",
   "execution_count": 129,
   "metadata": {},
   "outputs": [
    {
     "output_type": "execute_result",
     "data": {
      "text/plain": "SampleSet(rec.array([([1, 1, 0, 0, 0], -811.15668174, 1)],\n          dtype=[('sample', 'i1', (5,)), ('energy', '<f8'), ('num_occurrences', '<i8')]), ['s[0]', 's[1]', 's[2]', 's[3]', 's[4]'], {}, 'BINARY')"
     },
     "metadata": {},
     "execution_count": 129
    }
   ],
   "source": [
    "solution_dimod.lowest()"
   ]
  },
  {
   "cell_type": "code",
   "execution_count": 130,
   "metadata": {},
   "outputs": [],
   "source": [
    "solution_dimod = {'s[0]': 1, 's[1]': 1, 's[2]': 0, 's[3]': 0, 's[4]': 0}"
   ]
  },
  {
   "cell_type": "code",
   "execution_count": 131,
   "metadata": {},
   "outputs": [],
   "source": [
    "with open('out.particlesdimod', 'w') as f:\n",
    "    for i in range(len(particles)):\n",
    "        key = 's[%s]' %i\n",
    "        if(solution_dimod[key]==1):\n",
    "            f.write(\"0 0 0 0\\n\")\n",
    "            f.write(\"%s %s %s %s\\n\\n\\n\" %( particles[i]['px'], particles[i]['py'], particles[i]['pz'], particles[i]['E']))"
   ]
  },
  {
   "cell_type": "code",
   "execution_count": null,
   "metadata": {},
   "outputs": [],
   "source": []
  }
 ]
}
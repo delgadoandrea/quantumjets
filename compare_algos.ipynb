{
 "metadata": {
  "language_info": {
   "codemirror_mode": {
    "name": "ipython",
    "version": 3
   },
   "file_extension": ".py",
   "mimetype": "text/x-python",
   "name": "python",
   "nbconvert_exporter": "python",
   "pygments_lexer": "ipython3",
   "version": "3.8.5-final"
  },
  "orig_nbformat": 2,
  "kernelspec": {
   "name": "python38264bite8c1c5bb18bd4e8697bc11d0205dd314",
   "display_name": "Python 3.8.2 64-bit"
  }
 },
 "nbformat": 4,
 "nbformat_minor": 2,
 "cells": [
  {
   "cell_type": "code",
   "execution_count": 1,
   "metadata": {},
   "outputs": [],
   "source": [
    "# Taken from main06.cc Pythia example. A study of event properties of LEP1 events\n",
    "\n",
    "from numpythia import Pythia, hepmc_write, hepmc_read\n",
    "from numpythia import STATUS, HAS_END_VERTEX, ABS_PDG_ID\n",
    "\n",
    "from pyjet import cluster, DTYPE_PTEPM, DTYPE_EP\n",
    "from pyjet.testdata import get_event\n",
    "\n",
    "import numpy as np\n",
    "import sys\n",
    "\n",
    "from pyjet import cluster\n",
    "from pyjet import ClusterSequenceArea, JetDefinition, ClusterSequence\n",
    "\n",
    "from dwave.system.samplers import DWaveSampler\n",
    "from dwave.system.composites import EmbeddingComposite"
   ]
  },
  {
   "cell_type": "code",
   "execution_count": 2,
   "metadata": {},
   "outputs": [],
   "source": [
    "# Pythia generator settings. Process selection e+e- collision.\n",
    "# WeakSingleBoson:ffbar2gmZ : Produce Z bosons and interference with photon\n",
    "# Consider only Z (PDGID=23) decays to light quarks\n",
    "\n",
    "params = {\"Beams:idA\" : \"11\", \"Beams:idB\" : \"-11\",\"Beams:eCM\": 91.1876, \"WeakSingleBoson:ffbar2gmZ\" : \"on\", \"23:onMode\": \"off\", \"23:onIfAny\": \"1 2 3 4 5\", \"PDF:lepton\": \"off\"}\n",
    "pythia = Pythia(params =params, random_state=1)\n",
    "\n",
    "# Consider only final-state particles\n",
    "selection = ((STATUS == 1) & ~HAS_END_VERTEX)"
   ]
  },
  {
   "cell_type": "code",
   "execution_count": 3,
   "metadata": {},
   "outputs": [],
   "source": [
    "# Array of pseudo-jets or particles to cluster\n",
    "particles = []\n",
    "array = []\n",
    "\n",
    "# Begin event loop. Generate events\n",
    "for event in pythia(events=1):\n",
    "    array = event.all(selection)"
   ]
  },
  {
   "cell_type": "code",
   "execution_count": 4,
   "metadata": {},
   "outputs": [],
   "source": [
    "#For testing: filter out particles by energy\n",
    "particles = array#[array[\"E\"] > 2.0]"
   ]
  },
  {
   "cell_type": "code",
   "execution_count": 5,
   "metadata": {
    "tags": []
   },
   "outputs": [
    {
     "output_type": "stream",
     "name": "stdout",
     "text": [
      "35\n"
     ]
    }
   ],
   "source": [
    "print(len(particles))"
   ]
  },
  {
   "cell_type": "code",
   "execution_count": 6,
   "metadata": {},
   "outputs": [
    {
     "output_type": "execute_result",
     "data": {
      "text/plain": [
       "35"
      ]
     },
     "metadata": {},
     "execution_count": 6
    }
   ],
   "source": [
    "len(array)"
   ]
  },
  {
   "cell_type": "code",
   "execution_count": 7,
   "metadata": {},
   "outputs": [],
   "source": [
    "# Ep - format for reference, not for plotting\n",
    "with open('ee_particles.dat', 'w') as f:\n",
    "    for p in particles:\n",
    "        f.write(\"%s %s %s %s\\n\" %( p['E'], p['px'], p['py'], p['pz']))\n"
   ]
  },
  {
   "cell_type": "code",
   "execution_count": 8,
   "metadata": {},
   "outputs": [],
   "source": [
    "# Print out each momentum (starting from 0 to enable gnuplot to easily draw a line)\n",
    "\n",
    "with open('out.particles', 'w') as f:\n",
    "    for p in particles:\n",
    "        f.write(\"0 0 0 0\\n\")\n",
    "        f.write(\"%s %s %s %s\\n\\n\\n\" %( p['px'], p['py'], p['pz'], p['E']))\n"
   ]
  },
  {
   "cell_type": "code",
   "execution_count": 9,
   "metadata": {},
   "outputs": [],
   "source": [
    "# Cluster particles into jets\n",
    "# First generate a whole \"clustering sequence\" with the e+e- kt algorithm\n",
    "\n",
    "jetdef = JetDefinition('ee_kt')\n",
    "sequence = ClusterSequence(particles, jetdef, ep=True)"
   ]
  },
  {
   "cell_type": "code",
   "execution_count": 10,
   "metadata": {},
   "outputs": [],
   "source": [
    "# Then select the jets that come out of clustering \n",
    "jets = sequence.exclusive_jets(3)"
   ]
  },
  {
   "cell_type": "code",
   "execution_count": 11,
   "metadata": {},
   "outputs": [],
   "source": [
    "with open('out.jetconst', 'w') as f:\n",
    "    for c in range(len(jets[0].constituents_array(ep=True))):\n",
    "        f.write(\"0 0 0 0\\n\")\n",
    "        f.write(\"%s %s %s %s\\n\\n\\n\" %(jets[0].constituents_array(ep=True)[c]['px'], jets[0].constituents_array(ep=True)[c]['py'], jets[0].constituents_array(ep=True)[c]['pz'], jets[0].constituents_array(ep=True)[c]['E']))"
   ]
  },
  {
   "cell_type": "code",
   "execution_count": 12,
   "metadata": {},
   "outputs": [],
   "source": [
    "# Print out the jets to a file\n",
    "with open('out.ktjets', 'w') as f:\n",
    "    for jet in jets:\n",
    "        f.write(\"0 0 0 0\\n\")\n",
    "        f.write(\"%s %s %s %s\\n\\n\\n\" %(jet.px, jet.py, jet.pz, jet.e))"
   ]
  },
  {
   "cell_type": "code",
   "execution_count": 13,
   "metadata": {},
   "outputs": [],
   "source": [
    "# Create qubo\n",
    "from pyqubo import Spin, Array\n",
    "\n",
    "# Create an array os spin variables\n",
    "n_part = len(particles) \n",
    "s = Array.create('s', shape=n_part, vartype='BINARY')\n",
    "\n",
    "# Create an array of zeroes for qubo matrix coefficients\n",
    "coeff = [[0] * n_part for _ in range(n_part)] \n",
    "theta = np.pi/4.\n",
    "\n",
    "for i in range(0,n_part):\n",
    "    for j in range(0,n_part):\n",
    "        coeff[i][j] = (particles[i]['px']*particles[j]['px'] + particles[i]['py']*particles[j]['py'] + particles[i]['pz']*particles[j]['pz'] - particles[i]['E']*particles[j]['E'] * np.cos(theta))/(1 - np.cos(theta))\n",
    "\n",
    "# Construct Hamiltonian\n",
    "H = sum([ -1.0*coeff[i][j]*s[i]*s[j] for i in range(0,n_part) for j in range(0,n_part)])\n",
    "\n",
    "# Compile model using pyqubo\n",
    "\n",
    "model = H.compile()\n",
    "qubo, offset = model.to_qubo()"
   ]
  },
  {
   "cell_type": "code",
   "execution_count": 26,
   "metadata": {},
   "outputs": [],
   "source": [
    "# Study sparsity of QUBO\n",
    "import dimod\n",
    "import hybrid\n",
    "\n",
    "bqm = dimod.BinaryQuadraticModel.from_qubo(qubo, offset=0.0)"
   ]
  },
  {
   "cell_type": "code",
   "execution_count": 27,
   "metadata": {},
   "outputs": [
    {
     "output_type": "stream",
     "name": "stdout",
     "text": [
      "BQM: 35 nodes, 595 edges, 1.00 density\n"
     ]
    }
   ],
   "source": [
    "print(\"BQM: {} nodes, {} edges, {:.2f} density\". format( len(bqm), len(bqm.quadratic), hybrid.bqm_density(bqm)))"
   ]
  },
  {
   "cell_type": "code",
   "execution_count": 16,
   "metadata": {},
   "outputs": [],
   "source": [
    "# Submit qubo to D-Wave\n",
    "\n",
    "sampler = EmbeddingComposite(DWaveSampler(solver='Advantage_system1.1'))\n",
    "response = sampler.sample_qubo(qubo, num_reads=1)"
   ]
  },
  {
   "cell_type": "code",
   "execution_count": 17,
   "metadata": {
    "tags": []
   },
   "outputs": [],
   "source": [
    "qpu_energies = []\n",
    "for datum in response.data(['sample', 'energy']):\n",
    "    qpu_energies.append(datum.energy)\n",
    "    if (datum.energy < 0):\n",
    "        print(datum.sample, datum.energy)"
   ]
  },
  {
   "cell_type": "code",
   "execution_count": 19,
   "metadata": {},
   "outputs": [
    {
     "output_type": "execute_result",
     "data": {
      "text/plain": [
       "[820.4262289060534]"
      ]
     },
     "metadata": {},
     "execution_count": 19
    }
   ],
   "source": [
    "qpu_energies"
   ]
  },
  {
   "cell_type": "code",
   "execution_count": 20,
   "metadata": {
    "tags": []
   },
   "outputs": [
    {
     "output_type": "stream",
     "name": "stdout",
     "text": [
      "{'s[0]': 1, 's[10]': 0, 's[11]': 1, 's[12]': 1, 's[13]': 0, 's[14]': 1, 's[15]': 0, 's[16]': 0, 's[17]': 1, 's[18]': 0, 's[19]': 1, 's[1]': 1, 's[20]': 0, 's[21]': 1, 's[22]': 1, 's[23]': 0, 's[24]': 0, 's[25]': 1, 's[26]': 0, 's[27]': 1, 's[28]': 1, 's[29]': 0, 's[2]': 0, 's[30]': 1, 's[31]': 0, 's[32]': 0, 's[33]': 1, 's[34]': 1, 's[3]': 0, 's[4]': 0, 's[5]': 1, 's[6]': 0, 's[7]': 0, 's[8]': 0, 's[9]': 1} 820.4262289060534\n"
     ]
    }
   ],
   "source": [
    "for datum in response.data(['sample', 'energy']):\n",
    "    print(datum.sample, datum.energy)"
   ]
  },
  {
   "cell_type": "code",
   "execution_count": 21,
   "metadata": {},
   "outputs": [],
   "source": [
    "solution = {'s[0]': 1, 's[10]': 0, 's[11]': 1, 's[12]': 1, 's[13]': 0, 's[14]': 1, 's[15]': 0, 's[16]': 0, 's[17]': 1, 's[18]': 0, 's[19]': 1, 's[1]': 1, 's[20]': 0, 's[21]': 1, 's[22]': 1, 's[23]': 0, 's[24]': 0, 's[25]': 1, 's[26]': 0, 's[27]': 1, 's[28]': 1, 's[29]': 0, 's[2]': 0, 's[30]': 1, 's[31]': 0, 's[32]': 0, 's[33]': 1, 's[34]': 1, 's[3]': 0, 's[4]': 0, 's[5]': 1, 's[6]': 0, 's[7]': 0, 's[8]': 0, 's[9]': 1}"
   ]
  },
  {
   "cell_type": "code",
   "execution_count": 22,
   "metadata": {},
   "outputs": [],
   "source": [
    "with open('out.particlesqujet', 'w') as f:\n",
    "    for i in range(len(particles)):\n",
    "        key = 's[%s]' %i\n",
    "        if(solution[key]==1):\n",
    "            f.write(\"0 0 0 0\\n\")\n",
    "            f.write(\"%s %s %s %s\\n\\n\\n\" %( particles[i]['px'], particles[i]['py'], particles[i]['pz'], particles[i]['E']))"
   ]
  },
  {
   "cell_type": "code",
   "execution_count": 23,
   "metadata": {},
   "outputs": [],
   "source": [
    "# Print out each momentum (starting from 0 to enable gnuplot to easily draw a line)\n",
    "with open('ee_particles_qpu.dat', 'w') as f:\n",
    "    for i in range(len(particles)):\n",
    "        key = 's[%s]' %i\n",
    "        f.write(\"%s %s %s %s %s\\n\" %( particles[i]['E'],particles[i]['px'], particles[i]['py'], particles[i]['pz'], solution[key]))\n"
   ]
  },
  {
   "cell_type": "code",
   "execution_count": null,
   "metadata": {},
   "outputs": [],
   "source": [
    "import pyqubo\n",
    "decoded_solution, broken, energy = model.decode_solution(solution, vartype='BINARY')"
   ]
  },
  {
   "cell_type": "code",
   "execution_count": null,
   "metadata": {},
   "outputs": [],
   "source": [
    "import dimod \n",
    "solution_dimod = dimod.ExactSolver().sample_qubo(qubo)"
   ]
  },
  {
   "cell_type": "code",
   "execution_count": null,
   "metadata": {},
   "outputs": [],
   "source": [
    "solution_dimod.lowest()"
   ]
  },
  {
   "cell_type": "code",
   "execution_count": null,
   "metadata": {
    "tags": []
   },
   "outputs": [],
   "source": [
    "dimod_energies = []\n",
    "for datum in solution_dimod.data(['sample', 'energy']):\n",
    "    dimod_energies.append(datum.energy)\n",
    "    if (datum.energy < -1000):\n",
    "        print(datum.sample, datum.energy)"
   ]
  },
  {
   "cell_type": "code",
   "execution_count": null,
   "metadata": {},
   "outputs": [],
   "source": [
    "dimod_energies[8191]"
   ]
  },
  {
   "cell_type": "code",
   "execution_count": null,
   "metadata": {
    "tags": []
   },
   "outputs": [],
   "source": [
    "dimod_list = {'s[0]': 0, 's[10]': 1, 's[11]': 1, 's[12]': 1, 's[1]': 0, 's[2]': 0, 's[3]': 0, 's[4]': 0, 's[5]': 1, 's[6]': 1, 's[7]': 1, 's[8]': 1, 's[9]': 1}"
   ]
  },
  {
   "cell_type": "code",
   "execution_count": null,
   "metadata": {},
   "outputs": [],
   "source": [
    "with open('out.particlesdimod', 'w') as f:\n",
    "    for i in range(0,len(particles)):\n",
    "        key = 's[%s]' %i\n",
    "        if(dimod_list[key]==1):\n",
    "            f.write(\"0 0 0 0\\n\")\n",
    "            f.write(\"%s %s %s %s\\n\\n\\n\" %( particles[i]['px'], particles[i]['py'], particles[i]['pz'], particles[i]['E']))"
   ]
  },
  {
   "cell_type": "code",
   "execution_count": null,
   "metadata": {},
   "outputs": [],
   "source": [
    "# Print out each momentum (starting from 0 to enable gnuplot to easily draw a line)\n",
    "with open('ee_particles_dimod.dat', 'w') as f:\n",
    "    for i in range(len(particles)):\n",
    "        key = 's[%s]' %i\n",
    "        f.write(\"%s %s %s %s %s\\n\" %( particles[i]['E'],particles[i]['px'], particles[i]['py'], particles[i]['pz'], dimod_list[key]))\n"
   ]
  },
  {
   "cell_type": "code",
   "execution_count": null,
   "metadata": {},
   "outputs": [],
   "source": []
  }
 ]
}